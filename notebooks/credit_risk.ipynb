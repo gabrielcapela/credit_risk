{
  "cells": [
    {
      "cell_type": "markdown",
      "metadata": {
        "id": "FB8BaFLiRfWC"
      },
      "source": [
        "---\n",
        "\n",
        "\n",
        "<img width=25% src=\"https://raw.githubusercontent.com/gabrielcapela/credit_risk/main/images/myself.png\" align=right>\n",
        "\n",
        "# **Credit Risk Assessment Project**\n",
        "\n",
        "*by Gabriel Capela*\n",
        "\n",
        "[<img src=\"https://img.shields.io/badge/LinkedIn-0077B5?style=for-the-badge&logo=linkedin&logoColor=white\"/>](https://www.linkedin.com/in/gabrielcapela)\n",
        "[<img src=\"https://img.shields.io/badge/Medium-12100E?style=for-the-badge&logo=medium&logoColor=white\" />](https://medium.com/@gabrielcapela)\n",
        "\n",
        "---\n",
        "\n",
        "This project aims to develop a **Machine Learning model capable of predicting the probability of customer default** at the time of a credit card application, even before any payment history is available.\n",
        "\n",
        "Default prediction is critical to minimize financial losses, preserve institutional credibility, and provide fair and efficient access to credit. However, the task is challenging due to limited data at the application stage, potential classification errors (false positives/negatives), and the need for representative historical data.\n",
        "\n",
        "The ultimate goal is to provide financial institutions with a **data-driven decision-support tool** that improves the accuracy and fairness of credit approval processes.\n",
        "\n",
        "\n",
        "\n",
        "<p align=\"center\">\n",
        "<img width=50% src=\"https://raw.githubusercontent.com/gabrielcapela/credit_risk/main/images/first_image.png\">\n",
        "</p>\n",
        "\n",
        "eeedit --->\n",
        "The CRoss Industry Standard Process for Data Mining ([CRISP-DM](https://www.ibm.com/docs/pt-br/spss-modeler/saas?topic=dm-crisp-help-overview)) methodology will be used to **guide** the stages of this project. In this project **supervised machine learning** algorithms (xxx e yyy) will be used to predict the probability of customer default.\n",
        "\n",
        "The process begins with the **Business Understanding** stage, where the business objective of minimizing losses through more accurate credit decisions is understood. Next, in the **Data Understanding** stage, the available data — originally from Nubank and released by Academia Sigmoidal — is explored to assess quality, identify patterns, and understand the relationship between resources and default risk, obvious modifications will already be made. In **Data Preparation**, the data is then cleaned, transformed, and prepared for modeling. In the **Modeling** stage, the models are trained and evaluated using appropriate metrics, taking into account class imbalance. Once the best model is selected and calibrated, its performance is reviewed in the **Evaluation** stage. Finally, in the **Deployment** stage, the model will be deployed in a web application for the project, in order to provide the probability of default of a given customer, given their data.\n",
        "\n",
        "This notebook will cover the **first three phases** of the project: Business Understanding, Data Understanding and Data Preparation."
      ]
    },
    {
      "cell_type": "markdown",
      "metadata": {
        "id": "j6m170oTR2hw"
      },
      "source": [
        "# Business Understanding"
      ]
    },
    {
      "cell_type": "markdown",
      "metadata": {},
      "source": [
        "## Problem Contextualization"
      ]
    },
    {
      "cell_type": "markdown",
      "metadata": {},
      "source": [
        "One of the biggest concerns for banks, financial institutions and fintechs is the **default rate** of their customer portfolio. Granting credit involves significant risks and can directly impact the financial health of the institution.\n",
        "\n",
        "**Assessing whether a customer has a high probability of becoming a defaulter** is essential to minimize losses and ensure the sustainability of the company. The term *default* is used to indicate the failure to comply with financial obligations, such as loan payments and credit card bills. Typically, the main reason for non-compliance with payment terms is the customer's financial inability.\n",
        "\n",
        "Large financial institutions have invested in Machine Learning models to predict default and optimize credit granting. Nubank, one of the largest fintechs in the world and the largest in Latin America, stands out for its digital business model, lack of bureaucracy and strong focus on innovation. The company has revolutionized the banking sector by using cutting-edge technology to offer accessible and personalized financial services.\n",
        "\n",
        "This project seeks to **develop a predictive model capable of estimating the probability of default** at the time of credit card application, before any payment history is established."
      ]
    },
    {
      "cell_type": "markdown",
      "metadata": {},
      "source": [
        "## About Nubank and the Source of Data"
      ]
    },
    {
      "cell_type": "markdown",
      "metadata": {},
      "source": [
        "<p align=\"center\">\n",
        "<img width=70% src=\"https://raw.githubusercontent.com/gabrielcapela/credit_risk/main/images/Nuubank.jpg\">\n",
        "</p>\n",
        "\n",
        "The data used in this project comes from a competition promoted by the startup, whose objective was to identify talents in the area of ​​Data Science. [Nubank](https://building.nubank.com.br/pt-br/data-science-machine-learning-pt-br/) is widely recognized for its **intensive use of Machine Learning and Artificial Intelligence to optimize its operations**, including credit granting. Since its founding, the company has adopted innovative data-based solutions to make access to credit safer and more efficient.\n",
        "\n",
        "This dataset was later organized and made available by [Academia Sigmoidal](https://sigmoidal.ai), a platform specialized in teaching Data Science. This data contains detailed **information about customers at the time of credit card application** and its use allows exploring real challenges faced by the financial sector, providing an ideal scenario for the construction of **predictive models aimed at credit risk assessment**."
      ]
    },
    {
      "cell_type": "markdown",
      "metadata": {},
      "source": [
        "## Importance of the Problem"
      ]
    },
    {
      "cell_type": "markdown",
      "metadata": {},
      "source": [
        "**IMPACT OF DEFAULT**\n",
        "\n",
        "Default can affect several aspects of the financial institution, including:\n",
        "\n",
        "- An increase in the provision for doubtful accounts, reducing the institution's profitability.\n",
        "- Deterioration of the credit portfolio, harming credibility with investors and regulators.\n",
        "- Impact on interest rates applied to customers, making credit more expensive for everyone.\n",
        "\n",
        "Granting credit involves inherent risk, and incorrect decisions can result in:\n",
        "\n",
        "*   **Financial losses**: Approving credit for customers with a high probability of default may result in substantial losses.\n",
        "\n",
        "*   **Missed opportunities**: Denying credit to low-risk customers (false positives) can reduce the customer base and impact revenue.\n",
        "\n",
        "*   **Customer experience**: Decisions must be fair and transparent to avoid frustration and maintain strong customer relations.\n",
        "\n",
        "The model must balance these factors, minimizing losses and optimizing credit allocation without compromising customer base growth.\n",
        "\n",
        "**KEY CHALLENGES AND LIMITATIONS**\n",
        "\n",
        "- Limited data at the time of application: Since predictions are made before the credit is granted, there is no available information on the customer’s future payment behavior.\n",
        "- False positives and false negatives: Rejecting a reliable customer or approving a defaulter customer can have financial and reputational impacts.\n",
        "- Data quality and representativeness: It is essential to ensure that historical data accurately reflects the target audience and current market conditions."
      ]
    },
    {
      "cell_type": "markdown",
      "metadata": {},
      "source": [
        "## Project Objective"
      ]
    },
    {
      "cell_type": "markdown",
      "metadata": {},
      "source": [
        "### To **create a Machine Learning model** that estimates the **probability of a customer not fulfilling their financial obligations**. The ultimate goal is to provide financial institutions with a data-driven decision-support tool that improves the accuracy and fairness of credit approval processes."
      ]
    },
    {
      "cell_type": "markdown",
      "metadata": {},
      "source": [
        "## Criteria for Model Evaluation"
      ]
    },
    {
      "cell_type": "markdown",
      "metadata": {},
      "source": [
        "To ensure that the model is useful in practice, it is essential to define metrics that effectively evaluate its performance. Since the problem involves predicting default, it can be treated as a binary classification (defaulting vs. not defaulting). In addition, the model will return the probability of a user being in default or not.\n",
        "\n",
        "Example:\n",
        "\n",
        "User 001A, after having his data inserted into the model, had the following output:\n",
        "\n",
        "--- \n",
        "NOT in default\n",
        "\n",
        "65% chance of not being in default\n",
        "\n",
        "35% chance of being in default\n",
        "\n",
        "---"
      ]
    },
    {
      "cell_type": "markdown",
      "metadata": {},
      "source": [
        "The following metrics will be used:"
      ]
    },
    {
      "cell_type": "markdown",
      "metadata": {},
      "source": [
        "### F1-Score"
      ]
    },
    {
      "cell_type": "markdown",
      "metadata": {},
      "source": [
        "The F1-Score is a crucial metric for classification problems with imbalanced classes, as is the case in this dataset, where there are many more non-defaulting user entries than defaulting users.\n",
        "\n",
        "This metric is calculated with the harmonic mean of two other metrics, precision and recall:\n",
        "\n",
        "\n",
        "- **Precision**: Ratio between the number of correctly detected defaulting users and the number of users detected as defaulting, whether or not this is correct. Increasing this rate seeks to minimize false positives, i.e., to prevent many non-defaulting customers from being wrongly identified as defaulting.\n",
        "\n",
        "- **Recall**: Ratio between the number of correctly detected defaulting users and the number of users who are actually defaulting, whether detected or not. Increasing this rate seeks to minimize false negatives, i.e., to ensure that the majority of defaulting customers are correctly identified.\n",
        "\n",
        "\n",
        "#### These metrics are important because, in a credit granting context, errors in both directions can have significant economic impacts.\n",
        "\n",
        "For this project, an **F1-Score above 0.7** will be considered satisfactory."
      ]
    },
    {
      "cell_type": "markdown",
      "metadata": {},
      "source": [
        "### Log Loss (Logarithmic Loss)"
      ]
    },
    {
      "cell_type": "markdown",
      "metadata": {},
      "source": [
        "Log Loss is the ideal metric to evaluate the **calibration of the probabilities returned by the model**. It penalizes more heavily the wrong predictions with high confidence, that is, when the model is very certain of a prediction and it is wrong, the error will be greater. Since the model returns probabilities, Log Loss measures how well these probabilities reflect reality.\n",
        "\n",
        "For example, if the model predicts a 90% chance that a user will default, but the user ends up not defaulting, **the penalty will be high**. More moderate predictions, such as 50% for a class, **will have a lower penalty**, even if the user does not belong to that class.\n",
        "\n",
        "The lower the Log Loss, the better the model is at predicting accurate probabilities.\n",
        "\n",
        "#### Such a metric will be crucial to our final objective, which is to indicate the probability of a customer being in default, and not just to indicate whether or not he will be in default, as a yes or no.\n",
        "\n",
        "Typical values: Log Loss ranges from 0 to infinity, with lower values ​​indicating better performance. In default prediction contexts, a Log Loss below 0.5 is often targeted, although this can vary depending on the complexity of the model and the nature of the data.\n",
        "\n",
        "For this project, a **Log Loss below 0.4** will be considered satisfactory."
      ]
    },
    {
      "cell_type": "markdown",
      "metadata": {
        "id": "j8wV1xtWR7mC"
      },
      "source": [
        "# Data Understanding"
      ]
    },
    {
      "cell_type": "markdown",
      "metadata": {
        "id": "ljIM6SmgUfdq"
      },
      "source": [
        "This step is essential for gaining initial insights into the dataset, **identifying patterns**, **detecting anomalies**, and **assessing data quality**. In this step, we begin to explore the characteristics of the available data, which helps shape strategies for data preparation and modeling. A thorough **Exploratory Data Analysis (EDA)** provides the foundation for making informed decisions throughout the rest of the project.\n",
        "\n",
        "The dataset used can be downloaded from this [page](https://github.com/gabrielcapela/credit_risk/blob/a73a02f0c910e09408487aec9ddea1d15e701c31/acquisition_train.csv) and includes several quantitative and categorical variables for each customer, as well as **a binary variable indicating whether the customer is a defaulter or not**.\n",
        "\n",
        "This section will be divided into eight steps: Load and inspect the dataset, Check for missing values, Univariate analysis, Bivariate analysis, Multivariate analysis, Check for outliers, Analyze correlations, Visualize categorical features, Detect outliers, and Compare target vs. feature relationships."
      ]
    },
    {
      "cell_type": "markdown",
      "metadata": {},
      "source": [
        "XXX\n",
        "**Load and inspect the dataset**: Check the number of rows and columns, data types, and structure.\n",
        "\n",
        "**Check for missing values**: Understand how much data is missing and in which variables.\n",
        "\n",
        "**Univariate analysis**\n",
        "   --- numeric variables\n",
        "       ---basic statistics\n",
        "       --- histogram\n",
        "       --- person correlation\n",
        "   --- categoric variables\n",
        "      --- describe(object)\n",
        "      --- qui-quadrado\n",
        "      --- Some plots?\n",
        "\n",
        "\n",
        "**multivariate analysis (correlation)**\n",
        "   --- plot correlation\n",
        "   ---check some especifcs correlation\n",
        "\n",
        "**OUTLIERS**\n",
        "\n",
        "**target vs feature reationshiph**\n",
        "   ---graph ans plot \n",
        "\n",
        "\n",
        "\n",
        "Analyze basic statistics: Use .describe() to get means, medians, standard deviations, min/max values, etc.\n",
        "\n",
        "Understand each variable: Analyze distributions (histograms, boxplots), especially the target variable (default).\n",
        "\n",
        "Analyze correlations: Use correlation matrices and heatmaps to find relationships between numerical features.\n",
        "\n",
        "Visualize categorical features: Use count plots and bar charts to understand the distribution and potential influence on the target.\n",
        "\n",
        "Detect outliers: Use visual tools like boxplots or Z-scores to identify outliers that may affect modeling.\n",
        "\n",
        "Target vs feature relationships: Compare how the target behaves across different values of features using grouped plots."
      ]
    },
    {
      "cell_type": "markdown",
      "metadata": {
        "id": "AnD9gs0EXSJU"
      },
      "source": [
        "## Load and inspect the dataset"
      ]
    },
    {
      "cell_type": "markdown",
      "metadata": {
        "id": "ytrAsQTBc_RR"
      },
      "source": [
        "First, let's import the necessary packages and the dataset and check its first few lines."
      ]
    },
    {
      "cell_type": "code",
      "execution_count": 1,
      "metadata": {
        "id": "3WMcSZs5dSDq"
      },
      "outputs": [],
      "source": [
        "#Importing the necessary packages\n",
        "import pandas as pd\n",
        "import numpy as np\n",
        "import matplotlib.pyplot as plt\n",
        "import seaborn as sns"
      ]
    },
    {
      "cell_type": "code",
      "execution_count": 2,
      "metadata": {
        "colab": {
          "base_uri": "https://localhost:8080/",
          "height": 396
        },
        "id": "0_rK4-G_dsQE",
        "outputId": "9f6949e6-5c47-4da3-a63e-2c255190f1bd"
      },
      "outputs": [
        {
          "data": {
            "text/html": [
              "<div>\n",
              "<style scoped>\n",
              "    .dataframe tbody tr th:only-of-type {\n",
              "        vertical-align: middle;\n",
              "    }\n",
              "\n",
              "    .dataframe tbody tr th {\n",
              "        vertical-align: top;\n",
              "    }\n",
              "\n",
              "    .dataframe thead th {\n",
              "        text-align: right;\n",
              "    }\n",
              "</style>\n",
              "<table border=\"1\" class=\"dataframe\">\n",
              "  <thead>\n",
              "    <tr style=\"text-align: right;\">\n",
              "      <th></th>\n",
              "      <th>ids</th>\n",
              "      <th>target_default</th>\n",
              "      <th>score_1</th>\n",
              "      <th>score_2</th>\n",
              "      <th>score_3</th>\n",
              "      <th>score_4</th>\n",
              "      <th>score_5</th>\n",
              "      <th>score_6</th>\n",
              "      <th>risk_rate</th>\n",
              "      <th>last_amount_borrowed</th>\n",
              "      <th>last_borrowed_in_months</th>\n",
              "      <th>credit_limit</th>\n",
              "      <th>reason</th>\n",
              "      <th>income</th>\n",
              "      <th>facebook_profile</th>\n",
              "      <th>state</th>\n",
              "      <th>zip</th>\n",
              "      <th>channel</th>\n",
              "      <th>job_name</th>\n",
              "      <th>real_state</th>\n",
              "      <th>ok_since</th>\n",
              "      <th>n_bankruptcies</th>\n",
              "      <th>n_defaulted_loans</th>\n",
              "      <th>n_accounts</th>\n",
              "      <th>n_issues</th>\n",
              "      <th>application_time_applied</th>\n",
              "      <th>application_time_in_funnel</th>\n",
              "      <th>email</th>\n",
              "      <th>external_data_provider_credit_checks_last_2_year</th>\n",
              "      <th>external_data_provider_credit_checks_last_month</th>\n",
              "      <th>external_data_provider_credit_checks_last_year</th>\n",
              "      <th>external_data_provider_email_seen_before</th>\n",
              "      <th>external_data_provider_first_name</th>\n",
              "      <th>external_data_provider_fraud_score</th>\n",
              "      <th>lat_lon</th>\n",
              "      <th>marketing_channel</th>\n",
              "      <th>profile_phone_number</th>\n",
              "      <th>reported_income</th>\n",
              "      <th>shipping_state</th>\n",
              "      <th>shipping_zip_code</th>\n",
              "      <th>profile_tags</th>\n",
              "      <th>user_agent</th>\n",
              "      <th>target_fraud</th>\n",
              "    </tr>\n",
              "  </thead>\n",
              "  <tbody>\n",
              "    <tr>\n",
              "      <th>0</th>\n",
              "      <td>343b7e7b-2cf8-e508-b8fd-0a0285af30aa</td>\n",
              "      <td>False</td>\n",
              "      <td>1Rk8w4Ucd5yR3KcqZzLdow==</td>\n",
              "      <td>IOVu8au3ISbo6+zmfnYwMg==</td>\n",
              "      <td>350.0</td>\n",
              "      <td>101.800832</td>\n",
              "      <td>0.259555</td>\n",
              "      <td>108.427273</td>\n",
              "      <td>0.40</td>\n",
              "      <td>25033.92</td>\n",
              "      <td>36.0</td>\n",
              "      <td>0.0</td>\n",
              "      <td>mLVIVxoGY7TUDJ1FyFoSIZi1SFcaBmO01AydRchaEiGYtU...</td>\n",
              "      <td>65014.12</td>\n",
              "      <td>True</td>\n",
              "      <td>sjJbkqJS7cXalHLBFA+EOQ==</td>\n",
              "      <td>Ernn+uVXCMq/6ARrBCcd+A==</td>\n",
              "      <td>NCqL3QBx0pscDnx3ixKwXg==</td>\n",
              "      <td>mLVIVxoGY7TUDJ1FyFoSIZi1SFcaBmO01AydRchaEiGYtU...</td>\n",
              "      <td>N5/CE7lSkAfB04hVFFwllw==</td>\n",
              "      <td>NaN</td>\n",
              "      <td>0.0</td>\n",
              "      <td>0.0</td>\n",
              "      <td>18.0</td>\n",
              "      <td>18.0</td>\n",
              "      <td>07:52:34</td>\n",
              "      <td>444</td>\n",
              "      <td>outlook.com</td>\n",
              "      <td>NaN</td>\n",
              "      <td>2</td>\n",
              "      <td>0.0</td>\n",
              "      <td>51.0</td>\n",
              "      <td>leidelaura</td>\n",
              "      <td>645</td>\n",
              "      <td>(-29.151545708122246, -51.1386461804385)</td>\n",
              "      <td>Invite-email</td>\n",
              "      <td>514-9840782</td>\n",
              "      <td>57849.0</td>\n",
              "      <td>BR-MT</td>\n",
              "      <td>17528</td>\n",
              "      <td>{'tags': ['n19', 'n8']}</td>\n",
              "      <td>Mozilla/5.0 (Linux; Android 6.0.1; SGP771 Buil...</td>\n",
              "      <td>NaN</td>\n",
              "    </tr>\n",
              "    <tr>\n",
              "      <th>1</th>\n",
              "      <td>bc2c7502-bbad-0f8c-39c3-94e881967124</td>\n",
              "      <td>False</td>\n",
              "      <td>DGCQep2AE5QRkNCshIAlFQ==</td>\n",
              "      <td>SaamrHMo23l/3TwXOWgVzw==</td>\n",
              "      <td>370.0</td>\n",
              "      <td>97.062615</td>\n",
              "      <td>0.942655</td>\n",
              "      <td>92.002546</td>\n",
              "      <td>0.24</td>\n",
              "      <td>NaN</td>\n",
              "      <td>NaN</td>\n",
              "      <td>39726.0</td>\n",
              "      <td>mLVIVxoGY7TUDJ1FyFoSIZi1SFcaBmO01AydRchaEiGYtU...</td>\n",
              "      <td>100018.91</td>\n",
              "      <td>False</td>\n",
              "      <td>xsd3ZdsI3356I3xMxZeiqQ==</td>\n",
              "      <td>rlWIXTBO+VOa34+SpGyhlQ==</td>\n",
              "      <td>NCqL3QBx0pscDnx3ixKwXg==</td>\n",
              "      <td>mLVIVxoGY7TUDJ1FyFoSIZi1SFcaBmO01AydRchaEiGYtU...</td>\n",
              "      <td>N5/CE7lSkAfB04hVFFwllw==</td>\n",
              "      <td>50.0</td>\n",
              "      <td>0.0</td>\n",
              "      <td>0.0</td>\n",
              "      <td>14.0</td>\n",
              "      <td>14.0</td>\n",
              "      <td>02:34:29</td>\n",
              "      <td>346</td>\n",
              "      <td>gmail.com</td>\n",
              "      <td>0.0</td>\n",
              "      <td>1</td>\n",
              "      <td>0.0</td>\n",
              "      <td>17.0</td>\n",
              "      <td>diocezio</td>\n",
              "      <td>243</td>\n",
              "      <td>(-19.687710705798963, -47.94151536525154)</td>\n",
              "      <td>Radio-commercial</td>\n",
              "      <td>251-3659293</td>\n",
              "      <td>4902.0</td>\n",
              "      <td>BR-RS</td>\n",
              "      <td>40933</td>\n",
              "      <td>{'tags': ['n6', 'n7', 'nim']}</td>\n",
              "      <td>Mozilla/5.0 (Linux; Android 5.0.2; SAMSUNG SM-...</td>\n",
              "      <td>NaN</td>\n",
              "    </tr>\n",
              "    <tr>\n",
              "      <th>2</th>\n",
              "      <td>669630dd-2e6a-0396-84bf-455e5009c922</td>\n",
              "      <td>True</td>\n",
              "      <td>DGCQep2AE5QRkNCshIAlFQ==</td>\n",
              "      <td>Fv28Bz0YRTVAT5kl1bAV6g==</td>\n",
              "      <td>360.0</td>\n",
              "      <td>100.027073</td>\n",
              "      <td>0.351918</td>\n",
              "      <td>112.892453</td>\n",
              "      <td>0.29</td>\n",
              "      <td>7207.92</td>\n",
              "      <td>36.0</td>\n",
              "      <td>NaN</td>\n",
              "      <td>mLVIVxoGY7TUDJ1FyFoSIZi1SFcaBmO01AydRchaEiGYtU...</td>\n",
              "      <td>65023.65</td>\n",
              "      <td>NaN</td>\n",
              "      <td>Ygq6MsM98oC8yceExr69Ig==</td>\n",
              "      <td>PjTIDfJsK0DKL9fO7vuW2g==</td>\n",
              "      <td>NCqL3QBx0pscDnx3ixKwXg==</td>\n",
              "      <td>mLVIVxoGY7TUDJ1FyFoSIZi1SFcaBmO01AydRchaEiGYtU...</td>\n",
              "      <td>n+xK9CfX0bCn77lClTWviw==</td>\n",
              "      <td>NaN</td>\n",
              "      <td>0.0</td>\n",
              "      <td>0.0</td>\n",
              "      <td>10.0</td>\n",
              "      <td>NaN</td>\n",
              "      <td>00:60:02</td>\n",
              "      <td>6</td>\n",
              "      <td>gmail.com</td>\n",
              "      <td>NaN</td>\n",
              "      <td>2</td>\n",
              "      <td>NaN</td>\n",
              "      <td>9.0</td>\n",
              "      <td>veralucia</td>\n",
              "      <td>65</td>\n",
              "      <td>(-28.748023890412284, -51.867279334353995)</td>\n",
              "      <td>Waiting-list</td>\n",
              "      <td>230-6097993</td>\n",
              "      <td>163679.0</td>\n",
              "      <td>BR-RR</td>\n",
              "      <td>50985</td>\n",
              "      <td>{'tags': ['n0', 'n17', 'nim', 'da']}</td>\n",
              "      <td>Mozilla/5.0 (Linux; Android 6.0.1; SGP771 Buil...</td>\n",
              "      <td>NaN</td>\n",
              "    </tr>\n",
              "    <tr>\n",
              "      <th>3</th>\n",
              "      <td>d235609e-b6cb-0ccc-a329-d4f12e7ebdc1</td>\n",
              "      <td>False</td>\n",
              "      <td>1Rk8w4Ucd5yR3KcqZzLdow==</td>\n",
              "      <td>dCm9hFKfdRm7ej3jW+gyxw==</td>\n",
              "      <td>510.0</td>\n",
              "      <td>101.599485</td>\n",
              "      <td>0.987673</td>\n",
              "      <td>94.902491</td>\n",
              "      <td>0.32</td>\n",
              "      <td>NaN</td>\n",
              "      <td>NaN</td>\n",
              "      <td>54591.0</td>\n",
              "      <td>mLVIVxoGY7TUDJ1FyFoSIZi1SFcaBmO01AydRchaEiGYtU...</td>\n",
              "      <td>68830.01</td>\n",
              "      <td>False</td>\n",
              "      <td>KET/Pmr6rHp1RJ/P9ymztw==</td>\n",
              "      <td>Cc/kWDLQH3dpHv5HU+pLVA==</td>\n",
              "      <td>NCqL3QBx0pscDnx3ixKwXg==</td>\n",
              "      <td>mLVIVxoGY7TUDJ1FyFoSIZi1SFcaBmO01AydRchaEiE56f...</td>\n",
              "      <td>n+xK9CfX0bCn77lClTWviw==</td>\n",
              "      <td>NaN</td>\n",
              "      <td>1.0</td>\n",
              "      <td>0.0</td>\n",
              "      <td>19.0</td>\n",
              "      <td>19.0</td>\n",
              "      <td>11:20:49</td>\n",
              "      <td>406</td>\n",
              "      <td>spgov.com</td>\n",
              "      <td>NaN</td>\n",
              "      <td>3</td>\n",
              "      <td>NaN</td>\n",
              "      <td>38.0</td>\n",
              "      <td>venice</td>\n",
              "      <td>815</td>\n",
              "      <td>(-17.520650158450454, -39.75801139933186)</td>\n",
              "      <td>Waiting-list</td>\n",
              "      <td>261-3543751</td>\n",
              "      <td>1086.0</td>\n",
              "      <td>BR-RN</td>\n",
              "      <td>37825</td>\n",
              "      <td>{'tags': ['n4']}</td>\n",
              "      <td>Mozilla/5.0 (Linux; Android 6.0; HTC One X10 B...</td>\n",
              "      <td>NaN</td>\n",
              "    </tr>\n",
              "    <tr>\n",
              "      <th>4</th>\n",
              "      <td>9e0eb880-e8f4-3faa-67d8-f5cdd2b3932b</td>\n",
              "      <td>False</td>\n",
              "      <td>8k8UDR4Yx0qasAjkGrUZLw==</td>\n",
              "      <td>+CxEO4w7jv3QPI/BQbyqAA==</td>\n",
              "      <td>500.0</td>\n",
              "      <td>98.474289</td>\n",
              "      <td>0.532539</td>\n",
              "      <td>118.126207</td>\n",
              "      <td>0.18</td>\n",
              "      <td>NaN</td>\n",
              "      <td>NaN</td>\n",
              "      <td>NaN</td>\n",
              "      <td>mLVIVxoGY7TUDJ1FyFoSIZi1SFcaBmO01AydRchaEiGYtU...</td>\n",
              "      <td>60011.29</td>\n",
              "      <td>True</td>\n",
              "      <td>xsd3ZdsI3356I3xMxZeiqQ==</td>\n",
              "      <td>i036nmJ7rfxo+3EvCD7Jnw==</td>\n",
              "      <td>NCqL3QBx0pscDnx3ixKwXg==</td>\n",
              "      <td>mLVIVxoGY7TUDJ1FyFoSIZi1SFcaBmO01AydRchaEiGYtU...</td>\n",
              "      <td>n+xK9CfX0bCn77lClTWviw==</td>\n",
              "      <td>NaN</td>\n",
              "      <td>0.0</td>\n",
              "      <td>0.0</td>\n",
              "      <td>11.0</td>\n",
              "      <td>NaN</td>\n",
              "      <td>13:39:03</td>\n",
              "      <td>240</td>\n",
              "      <td>gmail.com</td>\n",
              "      <td>0.0</td>\n",
              "      <td>2</td>\n",
              "      <td>1.0</td>\n",
              "      <td>46.0</td>\n",
              "      <td>darzisa</td>\n",
              "      <td>320</td>\n",
              "      <td>(-16.574259446978008, -39.90990074785962)</td>\n",
              "      <td>Invite-email</td>\n",
              "      <td>102-3660162</td>\n",
              "      <td>198618.0</td>\n",
              "      <td>BR-MT</td>\n",
              "      <td>52827</td>\n",
              "      <td>{'tags': ['pro+aty', 'n19', 'da', 'b19']}</td>\n",
              "      <td>Mozilla/5.0 (Linux; Android 7.0; Pixel C Build...</td>\n",
              "      <td>NaN</td>\n",
              "    </tr>\n",
              "  </tbody>\n",
              "</table>\n",
              "</div>"
            ],
            "text/plain": [
              "                                    ids target_default  \\\n",
              "0  343b7e7b-2cf8-e508-b8fd-0a0285af30aa          False   \n",
              "1  bc2c7502-bbad-0f8c-39c3-94e881967124          False   \n",
              "2  669630dd-2e6a-0396-84bf-455e5009c922           True   \n",
              "3  d235609e-b6cb-0ccc-a329-d4f12e7ebdc1          False   \n",
              "4  9e0eb880-e8f4-3faa-67d8-f5cdd2b3932b          False   \n",
              "\n",
              "                    score_1                   score_2  score_3     score_4  \\\n",
              "0  1Rk8w4Ucd5yR3KcqZzLdow==  IOVu8au3ISbo6+zmfnYwMg==    350.0  101.800832   \n",
              "1  DGCQep2AE5QRkNCshIAlFQ==  SaamrHMo23l/3TwXOWgVzw==    370.0   97.062615   \n",
              "2  DGCQep2AE5QRkNCshIAlFQ==  Fv28Bz0YRTVAT5kl1bAV6g==    360.0  100.027073   \n",
              "3  1Rk8w4Ucd5yR3KcqZzLdow==  dCm9hFKfdRm7ej3jW+gyxw==    510.0  101.599485   \n",
              "4  8k8UDR4Yx0qasAjkGrUZLw==  +CxEO4w7jv3QPI/BQbyqAA==    500.0   98.474289   \n",
              "\n",
              "    score_5     score_6  risk_rate  last_amount_borrowed  \\\n",
              "0  0.259555  108.427273       0.40              25033.92   \n",
              "1  0.942655   92.002546       0.24                   NaN   \n",
              "2  0.351918  112.892453       0.29               7207.92   \n",
              "3  0.987673   94.902491       0.32                   NaN   \n",
              "4  0.532539  118.126207       0.18                   NaN   \n",
              "\n",
              "   last_borrowed_in_months  credit_limit  \\\n",
              "0                     36.0           0.0   \n",
              "1                      NaN       39726.0   \n",
              "2                     36.0           NaN   \n",
              "3                      NaN       54591.0   \n",
              "4                      NaN           NaN   \n",
              "\n",
              "                                              reason     income  \\\n",
              "0  mLVIVxoGY7TUDJ1FyFoSIZi1SFcaBmO01AydRchaEiGYtU...   65014.12   \n",
              "1  mLVIVxoGY7TUDJ1FyFoSIZi1SFcaBmO01AydRchaEiGYtU...  100018.91   \n",
              "2  mLVIVxoGY7TUDJ1FyFoSIZi1SFcaBmO01AydRchaEiGYtU...   65023.65   \n",
              "3  mLVIVxoGY7TUDJ1FyFoSIZi1SFcaBmO01AydRchaEiGYtU...   68830.01   \n",
              "4  mLVIVxoGY7TUDJ1FyFoSIZi1SFcaBmO01AydRchaEiGYtU...   60011.29   \n",
              "\n",
              "  facebook_profile                     state                       zip  \\\n",
              "0             True  sjJbkqJS7cXalHLBFA+EOQ==  Ernn+uVXCMq/6ARrBCcd+A==   \n",
              "1            False  xsd3ZdsI3356I3xMxZeiqQ==  rlWIXTBO+VOa34+SpGyhlQ==   \n",
              "2              NaN  Ygq6MsM98oC8yceExr69Ig==  PjTIDfJsK0DKL9fO7vuW2g==   \n",
              "3            False  KET/Pmr6rHp1RJ/P9ymztw==  Cc/kWDLQH3dpHv5HU+pLVA==   \n",
              "4             True  xsd3ZdsI3356I3xMxZeiqQ==  i036nmJ7rfxo+3EvCD7Jnw==   \n",
              "\n",
              "                    channel  \\\n",
              "0  NCqL3QBx0pscDnx3ixKwXg==   \n",
              "1  NCqL3QBx0pscDnx3ixKwXg==   \n",
              "2  NCqL3QBx0pscDnx3ixKwXg==   \n",
              "3  NCqL3QBx0pscDnx3ixKwXg==   \n",
              "4  NCqL3QBx0pscDnx3ixKwXg==   \n",
              "\n",
              "                                            job_name  \\\n",
              "0  mLVIVxoGY7TUDJ1FyFoSIZi1SFcaBmO01AydRchaEiGYtU...   \n",
              "1  mLVIVxoGY7TUDJ1FyFoSIZi1SFcaBmO01AydRchaEiGYtU...   \n",
              "2  mLVIVxoGY7TUDJ1FyFoSIZi1SFcaBmO01AydRchaEiGYtU...   \n",
              "3  mLVIVxoGY7TUDJ1FyFoSIZi1SFcaBmO01AydRchaEiE56f...   \n",
              "4  mLVIVxoGY7TUDJ1FyFoSIZi1SFcaBmO01AydRchaEiGYtU...   \n",
              "\n",
              "                 real_state  ok_since  n_bankruptcies  n_defaulted_loans  \\\n",
              "0  N5/CE7lSkAfB04hVFFwllw==       NaN             0.0                0.0   \n",
              "1  N5/CE7lSkAfB04hVFFwllw==      50.0             0.0                0.0   \n",
              "2  n+xK9CfX0bCn77lClTWviw==       NaN             0.0                0.0   \n",
              "3  n+xK9CfX0bCn77lClTWviw==       NaN             1.0                0.0   \n",
              "4  n+xK9CfX0bCn77lClTWviw==       NaN             0.0                0.0   \n",
              "\n",
              "   n_accounts  n_issues application_time_applied  application_time_in_funnel  \\\n",
              "0        18.0      18.0                 07:52:34                         444   \n",
              "1        14.0      14.0                 02:34:29                         346   \n",
              "2        10.0       NaN                 00:60:02                           6   \n",
              "3        19.0      19.0                 11:20:49                         406   \n",
              "4        11.0       NaN                 13:39:03                         240   \n",
              "\n",
              "         email  external_data_provider_credit_checks_last_2_year  \\\n",
              "0  outlook.com                                               NaN   \n",
              "1    gmail.com                                               0.0   \n",
              "2    gmail.com                                               NaN   \n",
              "3    spgov.com                                               NaN   \n",
              "4    gmail.com                                               0.0   \n",
              "\n",
              "   external_data_provider_credit_checks_last_month  \\\n",
              "0                                                2   \n",
              "1                                                1   \n",
              "2                                                2   \n",
              "3                                                3   \n",
              "4                                                2   \n",
              "\n",
              "   external_data_provider_credit_checks_last_year  \\\n",
              "0                                             0.0   \n",
              "1                                             0.0   \n",
              "2                                             NaN   \n",
              "3                                             NaN   \n",
              "4                                             1.0   \n",
              "\n",
              "   external_data_provider_email_seen_before external_data_provider_first_name  \\\n",
              "0                                      51.0                        leidelaura   \n",
              "1                                      17.0                          diocezio   \n",
              "2                                       9.0                         veralucia   \n",
              "3                                      38.0                            venice   \n",
              "4                                      46.0                           darzisa   \n",
              "\n",
              "   external_data_provider_fraud_score  \\\n",
              "0                                 645   \n",
              "1                                 243   \n",
              "2                                  65   \n",
              "3                                 815   \n",
              "4                                 320   \n",
              "\n",
              "                                      lat_lon marketing_channel  \\\n",
              "0    (-29.151545708122246, -51.1386461804385)      Invite-email   \n",
              "1   (-19.687710705798963, -47.94151536525154)  Radio-commercial   \n",
              "2  (-28.748023890412284, -51.867279334353995)      Waiting-list   \n",
              "3   (-17.520650158450454, -39.75801139933186)      Waiting-list   \n",
              "4   (-16.574259446978008, -39.90990074785962)      Invite-email   \n",
              "\n",
              "  profile_phone_number  reported_income shipping_state  shipping_zip_code  \\\n",
              "0          514-9840782          57849.0          BR-MT              17528   \n",
              "1          251-3659293           4902.0          BR-RS              40933   \n",
              "2          230-6097993         163679.0          BR-RR              50985   \n",
              "3          261-3543751           1086.0          BR-RN              37825   \n",
              "4          102-3660162         198618.0          BR-MT              52827   \n",
              "\n",
              "                                profile_tags  \\\n",
              "0                    {'tags': ['n19', 'n8']}   \n",
              "1              {'tags': ['n6', 'n7', 'nim']}   \n",
              "2       {'tags': ['n0', 'n17', 'nim', 'da']}   \n",
              "3                           {'tags': ['n4']}   \n",
              "4  {'tags': ['pro+aty', 'n19', 'da', 'b19']}   \n",
              "\n",
              "                                          user_agent target_fraud  \n",
              "0  Mozilla/5.0 (Linux; Android 6.0.1; SGP771 Buil...          NaN  \n",
              "1  Mozilla/5.0 (Linux; Android 5.0.2; SAMSUNG SM-...          NaN  \n",
              "2  Mozilla/5.0 (Linux; Android 6.0.1; SGP771 Buil...          NaN  \n",
              "3  Mozilla/5.0 (Linux; Android 6.0; HTC One X10 B...          NaN  \n",
              "4  Mozilla/5.0 (Linux; Android 7.0; Pixel C Build...          NaN  "
            ]
          },
          "execution_count": 2,
          "metadata": {},
          "output_type": "execute_result"
        }
      ],
      "source": [
        "#Importing the dataset\n",
        "df = pd.read_csv('https://github.com/gabrielcapela/credit_risk/raw/refs/heads/main/acquisition_train.csv')\n",
        "pd.set_option('display.max_columns', None)  #Show all the columns\n",
        "#Showing the first lines\n",
        "df.head()\n"
      ]
    },
    {
      "cell_type": "markdown",
      "metadata": {
        "id": "KaGZHlzjgVD8"
      },
      "source": [
        "Below is the meaning of each variable:\n",
        "\n",
        "* **ids**: unique customer identifier.  \n",
        "* **target_default**: the target variable, indicates whether the customer has failed to pay a debt.  \n",
        "* **score_1**: encrypted customer score from a credit or risk assessment system.  \n",
        "* **score_2**: another encrypted credit or risk score.  \n",
        "* **score_3**: numerical credit or risk score..  \n",
        "* **score_4**: another credit or risk score.  \n",
        "* **score_5**: another credit or risk score.    \n",
        "* **score_6**: another credit or risk score.    \n",
        "* **risk_rate**: risk rate assigned to the customer.  \n",
        "* **last_amount_borrowed**: amount borrowed in the customer's last loan.  \n",
        "* **last_borrowed_in_months**: number of months since the last loan was taken.  \n",
        "* **credit_limit**: customer's credit limit.  \n",
        "* **reason**: encrypted reason provided for the credit request.  \n",
        "* **income**: estimated or reported anual customer income.  \n",
        "* **facebook_profile**: indicates whether the customer has a Facebook profile (boolean).  \n",
        "* **state**: encrypted customer’s state of residence.  \n",
        "* **zip**: encrypted customer’s postal code.  \n",
        "* **channel**: encrypted channel used by the customer to apply.  \n",
        "* **job_name**: encrypted customer’s job title or occupation.  \n",
        "* **real_state**: encrypted indicates property ownership or housing status.  \n",
        "* **ok_since**: number of months the customer has had a relationship with the company.  \n",
        "* **n_bankruptcies**: number of past bankruptcies.  \n",
        "* **n_defaulted_loans**: number of previously defaulted loans.  \n",
        "* **n_accounts**: total number of customer accounts.  \n",
        "* **n_issues**: number of recorded issues or complaints.  \n",
        "* **application_time_applied**: timestamp of the loan application.  \n",
        "* **application_time_in_funnel**: time spent by the customer in the approval funnel.  \n",
        "* **email**: customer email provider.  \n",
        "* **external_data_provider_credit_checks_last_2_year**: number of credit checks in the last two years.  \n",
        "* **external_data_provider_credit_checks_last_month**: number of credit checks in the last month.  \n",
        "* **external_data_provider_credit_checks_last_year**: number of credit checks in the last year.  \n",
        "* **external_data_provider_email_seen_before**: number of email has been seen before by external providers.  \n",
        "* **external_data_provider_first_name**: first name from an external provider (possibly anonymized).  \n",
        "* **external_data_provider_fraud_score**: fraud risk score provided by an external source.  \n",
        "* **lat_lon**: customer’s geographic coordinates.  \n",
        "* **marketing_channel**: marketing channel through which the customer was acquired.  \n",
        "* **profile_phone_number**: phone number associated with the customer profile.  \n",
        "* **reported_income**: income reported by the customer.  \n",
        "* **shipping_state**: shipping state (may differ from residence state).  \n",
        "* **shipping_zip_code**: shipping postal code.  \n",
        "* **profile_tags**: list of tags associated with the customer profile.  \n",
        "* **user_agent**: device and browser information used during the signup.  \n",
        "* **target_fraud**: flag indicating potential fraud (often used in separate modeling)."
      ]
    },
    {
      "cell_type": "markdown",
      "metadata": {
        "id": "sgoaPTqWdP2P"
      },
      "source": [
        "Checking the dataset size and variable type:"
      ]
    },
    {
      "cell_type": "code",
      "execution_count": 3,
      "metadata": {
        "colab": {
          "base_uri": "https://localhost:8080/"
        },
        "id": "JiS0TX68e1AF",
        "outputId": "bdb7f725-ae0a-46b0-c5dd-118c9ab3342c"
      },
      "outputs": [
        {
          "name": "stdout",
          "output_type": "stream",
          "text": [
            "The data set has 45000 rows and 43 columns.\n"
          ]
        }
      ],
      "source": [
        "#Showing the shape of dataset\n",
        "print(f\"The data set has {df.shape[0]} rows and {df.shape[1]} columns.\")"
      ]
    },
    {
      "cell_type": "code",
      "execution_count": 4,
      "metadata": {
        "colab": {
          "base_uri": "https://localhost:8080/"
        },
        "id": "Jl8XwTJifdau",
        "outputId": "b3c702f2-c7ca-456c-976f-d19a13bbde39"
      },
      "outputs": [
        {
          "name": "stdout",
          "output_type": "stream",
          "text": [
            "ids                                                  object\n",
            "target_default                                       object\n",
            "score_1                                              object\n",
            "score_2                                              object\n",
            "score_3                                             float64\n",
            "score_4                                             float64\n",
            "score_5                                             float64\n",
            "score_6                                             float64\n",
            "risk_rate                                           float64\n",
            "last_amount_borrowed                                float64\n",
            "last_borrowed_in_months                             float64\n",
            "credit_limit                                        float64\n",
            "reason                                               object\n",
            "income                                              float64\n",
            "facebook_profile                                     object\n",
            "state                                                object\n",
            "zip                                                  object\n",
            "channel                                              object\n",
            "job_name                                             object\n",
            "real_state                                           object\n",
            "ok_since                                            float64\n",
            "n_bankruptcies                                      float64\n",
            "n_defaulted_loans                                   float64\n",
            "n_accounts                                          float64\n",
            "n_issues                                            float64\n",
            "application_time_applied                             object\n",
            "application_time_in_funnel                            int64\n",
            "email                                                object\n",
            "external_data_provider_credit_checks_last_2_year    float64\n",
            "external_data_provider_credit_checks_last_month       int64\n",
            "external_data_provider_credit_checks_last_year      float64\n",
            "external_data_provider_email_seen_before            float64\n",
            "external_data_provider_first_name                    object\n",
            "external_data_provider_fraud_score                    int64\n",
            "lat_lon                                              object\n",
            "marketing_channel                                    object\n",
            "profile_phone_number                                 object\n",
            "reported_income                                     float64\n",
            "shipping_state                                       object\n",
            "shipping_zip_code                                     int64\n",
            "profile_tags                                         object\n",
            "user_agent                                           object\n",
            "target_fraud                                         object\n",
            "dtype: object\n"
          ]
        }
      ],
      "source": [
        "#Showing the  variables types\n",
        "print(df.dtypes)"
      ]
    },
    {
      "cell_type": "markdown",
      "metadata": {
        "id": "_uHSP9cCiRGV"
      },
      "source": [
        "**Some observations** can already be made and will be checked in the following steps:\n",
        "\n",
        "\n",
        "\n",
        "*   🔴 Coluna **ids** pode ser deletada, pois o Pandas faz a sua própria indexação.\n",
        "\n",
        "*   🟢 A coluna **target_default** é a nossa variável alvo.\n",
        "\n",
        "*   🟡 Muitas colunas que são do tipo *object* sofreram uma Anonimização e parecem possuir chaves iguais, o que indica que são variáveis categoricas. \n",
        "*   🟢 As variáveis **score_3**,\t**score_4**,\t**score_5**, **score_6** e\t**risk_rate** são numéricas e podem ter forte participação na predição.\n",
        "*   🟡 As variáveis **last_amount_borrowed**,\t**last_borrowed_in_months**,\t**credit_limit**,  **ok_since**, **n_issues** e **external_data_provider_credit_checks_last_2_year** são numéricas e pelo seu significado, podem ter importância no problema, porém aparentemente possuem muitos valores ausentes.\n",
        "*   🟡 **facebook_profile** parece ser uma variável booleana, porém com muitos valores ausentes.\n",
        "*   🟡 **external_data_provider_first_name** possivelmente é um nome anonimizado, não serve para o estudo.\t\n",
        "*   🟡 **lat_lon**\tse estiver correta pode servir para plotar mapas, junto com outras informações\n",
        "\n"
      ]
    },
    {
      "cell_type": "markdown",
      "metadata": {},
      "source": [
        "### TO CHECK LIST 🔎\n",
        "\n",
        "*   Colunas do tipo *object* que sofreram uma Anonimização parecem possuir chaves iguais, o que indica que são variáveis categoricas. \n",
        "\n",
        "*   As variáveis **last_amount_borrowed**,\t**last_borrowed_in_months**,\t**credit_limit**,  **ok_since**, **n_issues** e **external_data_provider_credit_checks_last_2_year** são numéricas e pelo seu significado, podem ter importância no problema, porém aparentemente possuem muitos valores ausentes.\n",
        "\n",
        "*   **facebook_profile** parece ser uma variável booleana, porém com muitos valores ausentes.\n",
        "\n",
        "*   **external_data_provider_first_name** possivelmente é um nome anonimizado, não serve para o estudo.\t\n",
        "\n",
        "*   **lat_lon**\tse estiver correta pode servir para plotar mapas, junto com outras informações"
      ]
    },
    {
      "cell_type": "markdown",
      "metadata": {},
      "source": [
        "### 🚮 Making necessary exclusions"
      ]
    },
    {
      "cell_type": "code",
      "execution_count": 5,
      "metadata": {},
      "outputs": [],
      "source": [
        "#Making a copy so as not to alter the original dataset\n",
        "df_clean = df.copy()\n",
        "df_clean = df_clean.drop(columns=['ids'])"
      ]
    },
    {
      "cell_type": "markdown",
      "metadata": {
        "id": "9CLuNGZ6Y4Zp"
      },
      "source": [
        "## Check for missing values"
      ]
    },
    {
      "cell_type": "code",
      "execution_count": 6,
      "metadata": {
        "colab": {
          "base_uri": "https://localhost:8080/"
        },
        "id": "H8Dd5PX8tgi_",
        "outputId": "0f40d2ac-9509-409e-9b6f-3982e759b60b"
      },
      "outputs": [
        {
          "data": {
            "text/html": [
              "<div>\n",
              "<style scoped>\n",
              "    .dataframe tbody tr th:only-of-type {\n",
              "        vertical-align: middle;\n",
              "    }\n",
              "\n",
              "    .dataframe tbody tr th {\n",
              "        vertical-align: top;\n",
              "    }\n",
              "\n",
              "    .dataframe thead th {\n",
              "        text-align: right;\n",
              "    }\n",
              "</style>\n",
              "<table border=\"1\" class=\"dataframe\">\n",
              "  <thead>\n",
              "    <tr style=\"text-align: right;\">\n",
              "      <th></th>\n",
              "      <th>Missing Values</th>\n",
              "      <th>Percentage (%)</th>\n",
              "    </tr>\n",
              "  </thead>\n",
              "  <tbody>\n",
              "    <tr>\n",
              "      <th>target_fraud</th>\n",
              "      <td>43478</td>\n",
              "      <td>96.617778</td>\n",
              "    </tr>\n",
              "    <tr>\n",
              "      <th>last_borrowed_in_months</th>\n",
              "      <td>29956</td>\n",
              "      <td>66.568889</td>\n",
              "    </tr>\n",
              "    <tr>\n",
              "      <th>last_amount_borrowed</th>\n",
              "      <td>29956</td>\n",
              "      <td>66.568889</td>\n",
              "    </tr>\n",
              "    <tr>\n",
              "      <th>ok_since</th>\n",
              "      <td>26545</td>\n",
              "      <td>58.988889</td>\n",
              "    </tr>\n",
              "    <tr>\n",
              "      <th>external_data_provider_credit_checks_last_2_year</th>\n",
              "      <td>22628</td>\n",
              "      <td>50.284444</td>\n",
              "    </tr>\n",
              "    <tr>\n",
              "      <th>external_data_provider_credit_checks_last_year</th>\n",
              "      <td>15124</td>\n",
              "      <td>33.608889</td>\n",
              "    </tr>\n",
              "    <tr>\n",
              "      <th>credit_limit</th>\n",
              "      <td>13800</td>\n",
              "      <td>30.666667</td>\n",
              "    </tr>\n",
              "    <tr>\n",
              "      <th>n_issues</th>\n",
              "      <td>11544</td>\n",
              "      <td>25.653333</td>\n",
              "    </tr>\n",
              "    <tr>\n",
              "      <th>facebook_profile</th>\n",
              "      <td>4458</td>\n",
              "      <td>9.906667</td>\n",
              "    </tr>\n",
              "    <tr>\n",
              "      <th>marketing_channel</th>\n",
              "      <td>3578</td>\n",
              "      <td>7.951111</td>\n",
              "    </tr>\n",
              "    <tr>\n",
              "      <th>job_name</th>\n",
              "      <td>3336</td>\n",
              "      <td>7.413333</td>\n",
              "    </tr>\n",
              "    <tr>\n",
              "      <th>target_default</th>\n",
              "      <td>3259</td>\n",
              "      <td>7.242222</td>\n",
              "    </tr>\n",
              "    <tr>\n",
              "      <th>external_data_provider_email_seen_before</th>\n",
              "      <td>2233</td>\n",
              "      <td>4.962222</td>\n",
              "    </tr>\n",
              "    <tr>\n",
              "      <th>lat_lon</th>\n",
              "      <td>1363</td>\n",
              "      <td>3.028889</td>\n",
              "    </tr>\n",
              "    <tr>\n",
              "      <th>user_agent</th>\n",
              "      <td>722</td>\n",
              "      <td>1.604444</td>\n",
              "    </tr>\n",
              "    <tr>\n",
              "      <th>n_bankruptcies</th>\n",
              "      <td>697</td>\n",
              "      <td>1.548889</td>\n",
              "    </tr>\n",
              "    <tr>\n",
              "      <th>n_defaulted_loans</th>\n",
              "      <td>574</td>\n",
              "      <td>1.275556</td>\n",
              "    </tr>\n",
              "    <tr>\n",
              "      <th>reason</th>\n",
              "      <td>566</td>\n",
              "      <td>1.257778</td>\n",
              "    </tr>\n",
              "    <tr>\n",
              "      <th>score_2</th>\n",
              "      <td>562</td>\n",
              "      <td>1.248889</td>\n",
              "    </tr>\n",
              "    <tr>\n",
              "      <th>score_1</th>\n",
              "      <td>562</td>\n",
              "      <td>1.248889</td>\n",
              "    </tr>\n",
              "    <tr>\n",
              "      <th>state</th>\n",
              "      <td>562</td>\n",
              "      <td>1.248889</td>\n",
              "    </tr>\n",
              "    <tr>\n",
              "      <th>income</th>\n",
              "      <td>562</td>\n",
              "      <td>1.248889</td>\n",
              "    </tr>\n",
              "    <tr>\n",
              "      <th>risk_rate</th>\n",
              "      <td>562</td>\n",
              "      <td>1.248889</td>\n",
              "    </tr>\n",
              "    <tr>\n",
              "      <th>score_3</th>\n",
              "      <td>562</td>\n",
              "      <td>1.248889</td>\n",
              "    </tr>\n",
              "    <tr>\n",
              "      <th>n_accounts</th>\n",
              "      <td>562</td>\n",
              "      <td>1.248889</td>\n",
              "    </tr>\n",
              "    <tr>\n",
              "      <th>zip</th>\n",
              "      <td>562</td>\n",
              "      <td>1.248889</td>\n",
              "    </tr>\n",
              "    <tr>\n",
              "      <th>channel</th>\n",
              "      <td>562</td>\n",
              "      <td>1.248889</td>\n",
              "    </tr>\n",
              "    <tr>\n",
              "      <th>real_state</th>\n",
              "      <td>562</td>\n",
              "      <td>1.248889</td>\n",
              "    </tr>\n",
              "  </tbody>\n",
              "</table>\n",
              "</div>"
            ],
            "text/plain": [
              "                                                  Missing Values  \\\n",
              "target_fraud                                               43478   \n",
              "last_borrowed_in_months                                    29956   \n",
              "last_amount_borrowed                                       29956   \n",
              "ok_since                                                   26545   \n",
              "external_data_provider_credit_checks_last_2_year           22628   \n",
              "external_data_provider_credit_checks_last_year             15124   \n",
              "credit_limit                                               13800   \n",
              "n_issues                                                   11544   \n",
              "facebook_profile                                            4458   \n",
              "marketing_channel                                           3578   \n",
              "job_name                                                    3336   \n",
              "target_default                                              3259   \n",
              "external_data_provider_email_seen_before                    2233   \n",
              "lat_lon                                                     1363   \n",
              "user_agent                                                   722   \n",
              "n_bankruptcies                                               697   \n",
              "n_defaulted_loans                                            574   \n",
              "reason                                                       566   \n",
              "score_2                                                      562   \n",
              "score_1                                                      562   \n",
              "state                                                        562   \n",
              "income                                                       562   \n",
              "risk_rate                                                    562   \n",
              "score_3                                                      562   \n",
              "n_accounts                                                   562   \n",
              "zip                                                          562   \n",
              "channel                                                      562   \n",
              "real_state                                                   562   \n",
              "\n",
              "                                                  Percentage (%)  \n",
              "target_fraud                                           96.617778  \n",
              "last_borrowed_in_months                                66.568889  \n",
              "last_amount_borrowed                                   66.568889  \n",
              "ok_since                                               58.988889  \n",
              "external_data_provider_credit_checks_last_2_year       50.284444  \n",
              "external_data_provider_credit_checks_last_year         33.608889  \n",
              "credit_limit                                           30.666667  \n",
              "n_issues                                               25.653333  \n",
              "facebook_profile                                        9.906667  \n",
              "marketing_channel                                       7.951111  \n",
              "job_name                                                7.413333  \n",
              "target_default                                          7.242222  \n",
              "external_data_provider_email_seen_before                4.962222  \n",
              "lat_lon                                                 3.028889  \n",
              "user_agent                                              1.604444  \n",
              "n_bankruptcies                                          1.548889  \n",
              "n_defaulted_loans                                       1.275556  \n",
              "reason                                                  1.257778  \n",
              "score_2                                                 1.248889  \n",
              "score_1                                                 1.248889  \n",
              "state                                                   1.248889  \n",
              "income                                                  1.248889  \n",
              "risk_rate                                               1.248889  \n",
              "score_3                                                 1.248889  \n",
              "n_accounts                                              1.248889  \n",
              "zip                                                     1.248889  \n",
              "channel                                                 1.248889  \n",
              "real_state                                              1.248889  "
            ]
          },
          "metadata": {},
          "output_type": "display_data"
        }
      ],
      "source": [
        "missing = df.isnull().sum()\n",
        "missing_percent = (missing / len(df)) * 100\n",
        "\n",
        "missing_df = pd.DataFrame({\n",
        "    'Missing Values': missing,\n",
        "    'Percentage (%)': missing_percent\n",
        "})\n",
        "\n",
        "#Filtering only columns with missing values\n",
        "missing_df = missing_df[missing_df['Missing Values'] > 0]\n",
        "missing_df = missing_df.sort_values(by='Missing Values', ascending=False)\n",
        "\n",
        "display(missing_df)\n"
      ]
    },
    {
      "cell_type": "markdown",
      "metadata": {
        "id": "UvN4Iywat17w"
      },
      "source": [
        "Será usado as seguintes regras para o tratamento dessas variáveis, de acordo com a sua porcentagem de valores ausentes (P):\n",
        "\n",
        "- (P) > 15%  -> A coluna será inteiramente excluida\n",
        "- (P) <= 15%  -> Os valores ausentes dessa coluna serão substituidos pela média ou mediana nas variáveis de valores numéricos, ou em classes seguindo a proporção existente das classes da determinada coluna. Poderão também ser excluídos apenas as linhas (entradas) que são ausentes.\n",
        "\n",
        "**Insights:**\n",
        "\n",
        "- 🔴 A variável alvo (target_default) possui 3259 valores ausentes, **esses usúarios serão excluídos**, pois não terão nenhum valor para a modelagem.\n",
        "- 🟡 The last 10 variables in the table above contain the same percentage of missing values, their exclusion will not result in the loss of much data.\n",
        "\n",
        "- 🟡 As variáveis **last_borrowed_in_months**\te **last_amount_borrowed** possuem as mesmas linhas com valores ausentes (em grande quantidade)\n",
        "- 🔴  As variáveis **target_fraud**, **ok_since**, **external_data_provider_credit_checks_last_2_year**,**external_data_provider_credit_checks_last_year**,\t**credit_limit** e\t**n_issues**\tserão excluidas por causa de sua alta procentagem de valores ausentes\n",
        "\n",
        "- 🟡 As variáveis **facebook_profile**,\t**marketing_channel**,\t**job_name**, **external_data_provider_email_seen_before**, **lat_lon**, **user_agent**, **n_bankruptcies**, **n_defaulted_loans** e **reason** terão os seus valores ausentes tratados, o método (exclusão, substituição pela média/mediana) será definido nas etapas seguites."
      ]
    },
    {
      "cell_type": "markdown",
      "metadata": {},
      "source": [
        "#### HYPOTHESIS 1\n",
        "The percentage of missing values, which is the same for 10 variables, is relative to the same group of users."
      ]
    },
    {
      "cell_type": "markdown",
      "metadata": {},
      "source": [
        "Doing this check below:"
      ]
    },
    {
      "cell_type": "code",
      "execution_count": 7,
      "metadata": {},
      "outputs": [
        {
          "name": "stdout",
          "output_type": "stream",
          "text": [
            "All columns have missing values in the same rows.\n"
          ]
        }
      ],
      "source": [
        "#List of columns with the same percentage of missing values\n",
        "cols_to_check = ['score_1', 'score_2', 'score_3', 'state', 'income',\n",
        "                 'risk_rate', 'n_accounts', 'zip', 'channel', 'real_state']\n",
        "\n",
        "#Get the row indices with missing values for each column\n",
        "missing_indices = [set(df[df[col].isna()].index) for col in cols_to_check]\n",
        "\n",
        "#Check if all sets of indices are equal\n",
        "same_missing = all(indices == missing_indices[0] for indices in missing_indices)\n",
        "\n",
        "if same_missing:\n",
        "    print(\"All columns have missing values in the same rows.\")\n",
        "else:\n",
        "    print(\"The columns have missing values in different rows.\")\n"
      ]
    },
    {
      "cell_type": "markdown",
      "metadata": {},
      "source": [
        "- 🔴  **All customers (rows)** that have missing data in these columns **will be deleted**."
      ]
    },
    {
      "cell_type": "markdown",
      "metadata": {},
      "source": [
        "### 🚮 Making necessary exclusions"
      ]
    },
    {
      "cell_type": "code",
      "execution_count": 8,
      "metadata": {},
      "outputs": [
        {
          "name": "stdout",
          "output_type": "stream",
          "text": [
            "The shape is 41741 x 36\n"
          ]
        }
      ],
      "source": [
        "#Deleting the 3259 missing values ​​of the target variable.\n",
        "df_clean = df_clean.dropna(subset=['target_default'])\n",
        "#Deleting the columns 'target_fraud', 'ok_since', 'external_data_provider_credit_checks_last_2_year', 'external_data_provider_credit_checks_last_year',\t'credit_limit' e\t'n_issues'.\n",
        "df_clean = df_clean.drop(columns=['target_fraud','ok_since','external_data_provider_credit_checks_last_2_year','external_data_provider_credit_checks_last_year',\t'credit_limit',\t'n_issues'])\n",
        "#Deleting the users that have the same 1.2489% of missing values ​​in the columns 'score_1', 'score_2', 'score_3', 'state', 'income','risk_rate', 'n_accounts', 'zip', 'channel', 'real_state'.\n",
        "df_clean = df_clean.dropna(subset=['score_1', 'score_2', 'score_3', 'state', 'income','risk_rate', 'n_accounts', 'zip', 'channel', 'real_state'])\n",
        "\n",
        "\n",
        "print(f'The shape is {df_clean.shape[0]} x {df_clean.shape[1]}')"
      ]
    },
    {
      "cell_type": "markdown",
      "metadata": {},
      "source": [
        "### TO CHECK LIST 🔎\n",
        "*   As variáveis **last_borrowed_in_months**\te **last_amount_borrowed** possuem as mesmas linhas com valores ausentes (em grande quantidade)\n",
        "\n",
        "*   As variáveis **facebook_profile**,\t**marketing_channel**,\t**job_name**, **external_data_provider_email_seen_before**, **lat_lon**, **user_agent**, **n_bankruptcies**, **n_defaulted_loans** e **reason** terão os seus valores ausentes tratados, o método (exclusão, substituição pela média/mediana) será definido nas etapas seguites.\n",
        "\n",
        "---\n",
        "\n",
        "*   Colunas do tipo *object* que sofreram uma Anonimização parecem possuir chaves iguais, o que indica que são variáveis categoricas. \n",
        "\n",
        "*   **external_data_provider_first_name** possivelmente é um nome anonimizado, não serve para o estudo.\t\n",
        "\n",
        "*   **lat_lon**\tse estiver correta pode servir para plotar mapas, junto com outras informações"
      ]
    },
    {
      "cell_type": "markdown",
      "metadata": {},
      "source": [
        "## Univariate analysis"
      ]
    },
    {
      "cell_type": "markdown",
      "metadata": {},
      "source": [
        "At this stage we will check the descriptive statistics in two groups, numerical and categorical variables."
      ]
    },
    {
      "cell_type": "markdown",
      "metadata": {},
      "source": [
        "### Numeric Variables -  Descriptive statistics"
      ]
    },
    {
      "cell_type": "code",
      "execution_count": 9,
      "metadata": {},
      "outputs": [
        {
          "name": "stderr",
          "output_type": "stream",
          "text": [
            "/Users/capela/Desktop/JOB/PROJECTS/credit_risk/venv_credit_risk/lib/python3.10/site-packages/pandas/core/nanops.py:1016: RuntimeWarning: invalid value encountered in subtract\n",
            "  sqr = _ensure_numeric((avg - values) ** 2)\n"
          ]
        },
        {
          "data": {
            "text/html": [
              "<div>\n",
              "<style scoped>\n",
              "    .dataframe tbody tr th:only-of-type {\n",
              "        vertical-align: middle;\n",
              "    }\n",
              "\n",
              "    .dataframe tbody tr th {\n",
              "        vertical-align: top;\n",
              "    }\n",
              "\n",
              "    .dataframe thead th {\n",
              "        text-align: right;\n",
              "    }\n",
              "</style>\n",
              "<table border=\"1\" class=\"dataframe\">\n",
              "  <thead>\n",
              "    <tr style=\"text-align: right;\">\n",
              "      <th></th>\n",
              "      <th>score_3</th>\n",
              "      <th>score_4</th>\n",
              "      <th>score_5</th>\n",
              "      <th>score_6</th>\n",
              "      <th>risk_rate</th>\n",
              "      <th>last_amount_borrowed</th>\n",
              "      <th>last_borrowed_in_months</th>\n",
              "      <th>income</th>\n",
              "      <th>n_bankruptcies</th>\n",
              "      <th>n_defaulted_loans</th>\n",
              "      <th>n_accounts</th>\n",
              "      <th>application_time_in_funnel</th>\n",
              "      <th>external_data_provider_credit_checks_last_month</th>\n",
              "      <th>external_data_provider_email_seen_before</th>\n",
              "      <th>external_data_provider_fraud_score</th>\n",
              "      <th>reported_income</th>\n",
              "      <th>shipping_zip_code</th>\n",
              "    </tr>\n",
              "  </thead>\n",
              "  <tbody>\n",
              "    <tr>\n",
              "      <th>count</th>\n",
              "      <td>41741.000000</td>\n",
              "      <td>41741.000000</td>\n",
              "      <td>41741.000000</td>\n",
              "      <td>41741.000000</td>\n",
              "      <td>41741.000000</td>\n",
              "      <td>14133.000000</td>\n",
              "      <td>14133.000000</td>\n",
              "      <td>4.174100e+04</td>\n",
              "      <td>41606.000000</td>\n",
              "      <td>41729.000000</td>\n",
              "      <td>41741.000000</td>\n",
              "      <td>41741.000000</td>\n",
              "      <td>41741.000000</td>\n",
              "      <td>39656.000000</td>\n",
              "      <td>41741.000000</td>\n",
              "      <td>41741.0</td>\n",
              "      <td>41741.000000</td>\n",
              "    </tr>\n",
              "    <tr>\n",
              "      <th>mean</th>\n",
              "      <td>346.459836</td>\n",
              "      <td>100.006820</td>\n",
              "      <td>0.499416</td>\n",
              "      <td>99.919399</td>\n",
              "      <td>0.294451</td>\n",
              "      <td>13328.104095</td>\n",
              "      <td>40.588410</td>\n",
              "      <td>7.108012e+04</td>\n",
              "      <td>0.076696</td>\n",
              "      <td>0.004625</td>\n",
              "      <td>10.639108</td>\n",
              "      <td>247.748545</td>\n",
              "      <td>1.504396</td>\n",
              "      <td>12.731188</td>\n",
              "      <td>500.491771</td>\n",
              "      <td>inf</td>\n",
              "      <td>33910.856688</td>\n",
              "    </tr>\n",
              "    <tr>\n",
              "      <th>std</th>\n",
              "      <td>110.102271</td>\n",
              "      <td>3.183821</td>\n",
              "      <td>0.288085</td>\n",
              "      <td>10.022703</td>\n",
              "      <td>0.101561</td>\n",
              "      <td>7918.698433</td>\n",
              "      <td>9.437936</td>\n",
              "      <td>5.225978e+04</td>\n",
              "      <td>0.274820</td>\n",
              "      <td>0.080157</td>\n",
              "      <td>4.588175</td>\n",
              "      <td>146.326172</td>\n",
              "      <td>1.114207</td>\n",
              "      <td>125.711218</td>\n",
              "      <td>287.993121</td>\n",
              "      <td>NaN</td>\n",
              "      <td>12696.432491</td>\n",
              "    </tr>\n",
              "    <tr>\n",
              "      <th>min</th>\n",
              "      <td>0.000000</td>\n",
              "      <td>86.191572</td>\n",
              "      <td>0.000035</td>\n",
              "      <td>60.663039</td>\n",
              "      <td>0.000000</td>\n",
              "      <td>1005.180000</td>\n",
              "      <td>36.000000</td>\n",
              "      <td>4.821180e+03</td>\n",
              "      <td>0.000000</td>\n",
              "      <td>0.000000</td>\n",
              "      <td>0.000000</td>\n",
              "      <td>0.000000</td>\n",
              "      <td>0.000000</td>\n",
              "      <td>-999.000000</td>\n",
              "      <td>0.000000</td>\n",
              "      <td>403.0</td>\n",
              "      <td>12001.000000</td>\n",
              "    </tr>\n",
              "    <tr>\n",
              "      <th>25%</th>\n",
              "      <td>270.000000</td>\n",
              "      <td>97.862546</td>\n",
              "      <td>0.251595</td>\n",
              "      <td>93.182517</td>\n",
              "      <td>0.220000</td>\n",
              "      <td>7210.280000</td>\n",
              "      <td>36.000000</td>\n",
              "      <td>4.401958e+04</td>\n",
              "      <td>0.000000</td>\n",
              "      <td>0.000000</td>\n",
              "      <td>7.000000</td>\n",
              "      <td>120.000000</td>\n",
              "      <td>1.000000</td>\n",
              "      <td>11.000000</td>\n",
              "      <td>252.000000</td>\n",
              "      <td>50910.0</td>\n",
              "      <td>22914.000000</td>\n",
              "    </tr>\n",
              "    <tr>\n",
              "      <th>50%</th>\n",
              "      <td>340.000000</td>\n",
              "      <td>100.017950</td>\n",
              "      <td>0.500174</td>\n",
              "      <td>99.977774</td>\n",
              "      <td>0.290000</td>\n",
              "      <td>12011.050000</td>\n",
              "      <td>36.000000</td>\n",
              "      <td>6.004409e+04</td>\n",
              "      <td>0.000000</td>\n",
              "      <td>0.000000</td>\n",
              "      <td>10.000000</td>\n",
              "      <td>248.000000</td>\n",
              "      <td>2.000000</td>\n",
              "      <td>27.000000</td>\n",
              "      <td>502.000000</td>\n",
              "      <td>101623.0</td>\n",
              "      <td>33877.000000</td>\n",
              "    </tr>\n",
              "    <tr>\n",
              "      <th>75%</th>\n",
              "      <td>420.000000</td>\n",
              "      <td>102.143100</td>\n",
              "      <td>0.747630</td>\n",
              "      <td>106.630991</td>\n",
              "      <td>0.360000</td>\n",
              "      <td>18030.160000</td>\n",
              "      <td>36.000000</td>\n",
              "      <td>8.503289e+04</td>\n",
              "      <td>0.000000</td>\n",
              "      <td>0.000000</td>\n",
              "      <td>13.000000</td>\n",
              "      <td>375.000000</td>\n",
              "      <td>2.000000</td>\n",
              "      <td>43.000000</td>\n",
              "      <td>747.000000</td>\n",
              "      <td>151248.0</td>\n",
              "      <td>44923.000000</td>\n",
              "    </tr>\n",
              "    <tr>\n",
              "      <th>max</th>\n",
              "      <td>990.000000</td>\n",
              "      <td>113.978234</td>\n",
              "      <td>0.999973</td>\n",
              "      <td>142.192400</td>\n",
              "      <td>0.900000</td>\n",
              "      <td>35059.600000</td>\n",
              "      <td>60.000000</td>\n",
              "      <td>5.000028e+06</td>\n",
              "      <td>5.000000</td>\n",
              "      <td>5.000000</td>\n",
              "      <td>49.000000</td>\n",
              "      <td>500.000000</td>\n",
              "      <td>3.000000</td>\n",
              "      <td>59.000000</td>\n",
              "      <td>1000.000000</td>\n",
              "      <td>inf</td>\n",
              "      <td>56000.000000</td>\n",
              "    </tr>\n",
              "  </tbody>\n",
              "</table>\n",
              "</div>"
            ],
            "text/plain": [
              "            score_3       score_4       score_5       score_6     risk_rate  \\\n",
              "count  41741.000000  41741.000000  41741.000000  41741.000000  41741.000000   \n",
              "mean     346.459836    100.006820      0.499416     99.919399      0.294451   \n",
              "std      110.102271      3.183821      0.288085     10.022703      0.101561   \n",
              "min        0.000000     86.191572      0.000035     60.663039      0.000000   \n",
              "25%      270.000000     97.862546      0.251595     93.182517      0.220000   \n",
              "50%      340.000000    100.017950      0.500174     99.977774      0.290000   \n",
              "75%      420.000000    102.143100      0.747630    106.630991      0.360000   \n",
              "max      990.000000    113.978234      0.999973    142.192400      0.900000   \n",
              "\n",
              "       last_amount_borrowed  last_borrowed_in_months        income  \\\n",
              "count          14133.000000             14133.000000  4.174100e+04   \n",
              "mean           13328.104095                40.588410  7.108012e+04   \n",
              "std             7918.698433                 9.437936  5.225978e+04   \n",
              "min             1005.180000                36.000000  4.821180e+03   \n",
              "25%             7210.280000                36.000000  4.401958e+04   \n",
              "50%            12011.050000                36.000000  6.004409e+04   \n",
              "75%            18030.160000                36.000000  8.503289e+04   \n",
              "max            35059.600000                60.000000  5.000028e+06   \n",
              "\n",
              "       n_bankruptcies  n_defaulted_loans    n_accounts  \\\n",
              "count    41606.000000       41729.000000  41741.000000   \n",
              "mean         0.076696           0.004625     10.639108   \n",
              "std          0.274820           0.080157      4.588175   \n",
              "min          0.000000           0.000000      0.000000   \n",
              "25%          0.000000           0.000000      7.000000   \n",
              "50%          0.000000           0.000000     10.000000   \n",
              "75%          0.000000           0.000000     13.000000   \n",
              "max          5.000000           5.000000     49.000000   \n",
              "\n",
              "       application_time_in_funnel  \\\n",
              "count                41741.000000   \n",
              "mean                   247.748545   \n",
              "std                    146.326172   \n",
              "min                      0.000000   \n",
              "25%                    120.000000   \n",
              "50%                    248.000000   \n",
              "75%                    375.000000   \n",
              "max                    500.000000   \n",
              "\n",
              "       external_data_provider_credit_checks_last_month  \\\n",
              "count                                     41741.000000   \n",
              "mean                                          1.504396   \n",
              "std                                           1.114207   \n",
              "min                                           0.000000   \n",
              "25%                                           1.000000   \n",
              "50%                                           2.000000   \n",
              "75%                                           2.000000   \n",
              "max                                           3.000000   \n",
              "\n",
              "       external_data_provider_email_seen_before  \\\n",
              "count                              39656.000000   \n",
              "mean                                  12.731188   \n",
              "std                                  125.711218   \n",
              "min                                 -999.000000   \n",
              "25%                                   11.000000   \n",
              "50%                                   27.000000   \n",
              "75%                                   43.000000   \n",
              "max                                   59.000000   \n",
              "\n",
              "       external_data_provider_fraud_score  reported_income  shipping_zip_code  \n",
              "count                        41741.000000          41741.0       41741.000000  \n",
              "mean                           500.491771              inf       33910.856688  \n",
              "std                            287.993121              NaN       12696.432491  \n",
              "min                              0.000000            403.0       12001.000000  \n",
              "25%                            252.000000          50910.0       22914.000000  \n",
              "50%                            502.000000         101623.0       33877.000000  \n",
              "75%                            747.000000         151248.0       44923.000000  \n",
              "max                           1000.000000              inf       56000.000000  "
            ]
          },
          "execution_count": 9,
          "metadata": {},
          "output_type": "execute_result"
        }
      ],
      "source": [
        "df_clean.describe()"
      ]
    },
    {
      "cell_type": "markdown",
      "metadata": {},
      "source": [
        "Insights:\n",
        "\n",
        "- 🟡 As variáveis **last_borrowed_in_months**\te **last_amount_borrowed** não possuem valores iguais a zero, num dataset com esse volume é inviavel não ter nenhum cliente que pediu algum empréstimo. Além disso a menor quantidade de meses de quando o último empréstimo foi pedido foi de 36 meses. Existe a possibilidade de que os dados nulos dessa coluna (que são 66,56%) signifiquem o número **zero**\n",
        "- 🟡 Possíveis outliers na coluna **income**, valores máximos bem superiores ao terceiro quartil.\n",
        "- 🟡 A variável **reported_income** tem valores infinitos(inf), pois seu valor máximo e média são infinitos.\n",
        "- 🟡 A variável **external_data_provider_email_seen_before** possue valores negativos, o que provavelmente representa algum erros nos dados."
      ]
    },
    {
      "cell_type": "markdown",
      "metadata": {},
      "source": [
        "#### HYPOTHESIS 2\n",
        "Os valores ausentes das variáveis **last_borrowed_in_months**\te **last_amount_borrowed** representam o numero zero. São dados de clientes que não pegaram empréstimos e mantêm seus compromissos financeiros.\n",
        "\n",
        "Caso isso ocorra, os usuarios com valor 0 para essas variáveis teriam uma maior correlação linear com a variável alvo, tendendo a não serem inadimplentes.\n",
        "Vamos checar a correlação e em seguida verificar a distribuição da variável alvo no conjunto de dados completo e no subconjunto formado apenas pelas variáveis NaN (substítuidas por zero)."
      ]
    },
    {
      "cell_type": "code",
      "execution_count": 10,
      "metadata": {},
      "outputs": [
        {
          "name": "stdout",
          "output_type": "stream",
          "text": [
            "last_borrowed_in_months    0.021598\n",
            "last_amount_borrowed       0.017141\n",
            "Name: target_default, dtype: float64\n",
            "Percentage of 'False' in the full dataset: 77.96%\n",
            "Percentage of 'False' when both variables are 0:: 77.28%\n"
          ]
        }
      ],
      "source": [
        "#Checking correlation after replacing Nan values ​​of 'last_borrowed_in_months' and 'last_amount_borrowed' with zero:\n",
        "\n",
        "df_test = df.copy() #Create a copy\n",
        "\n",
        "#Replacing missing values ​​with 0 \n",
        "cols_to_fill = ['last_borrowed_in_months', 'last_amount_borrowed']\n",
        "df_test[cols_to_fill] = df_test[cols_to_fill].fillna(0)\n",
        "\n",
        "#Calculating the correlation ith the target\n",
        "correlations = df_test[cols_to_fill + ['target_default']].corr()\n",
        "\n",
        "#Showing the correlations\n",
        "print(correlations['target_default'].drop('target_default').sort_values(ascending=False))\n",
        "\n",
        "\n",
        "\n",
        "'''Verificando agora a distribuição da variável alvo no conjunto completo (com os valores NaN substítuidos por zero) \n",
        "e no conjunto formado apenas pelos usúarios com 'last_borrowed_in_months' e 'last_amount_borrowed' \n",
        "iguais a NaN (substítuidos por zero) . \n",
        " \n",
        "Caso a hipotese se confirme, a porcentagem de cliente marcado \n",
        "como 'False' deve aumentar em relação ao primeiro grupo.'''\n",
        "\n",
        "#Separating inputs with value 'False' for the target variable\n",
        "total_false_pct = (df_test['target_default'] == False).mean() * 100\n",
        "\n",
        "#Filtering records where both variables are 0\n",
        "subset_zero = df_test[\n",
        "    (df_test['last_borrowed_in_months'] == 0) &\n",
        "    (df_test['last_amount_borrowed'] == 0)\n",
        "]\n",
        "\n",
        "#Separating inputs with value 'False' for the target variable in th subset\n",
        "subset_false_pct = (subset_zero['target_default'] == False).mean() * 100\n",
        "\n",
        "#Showing the results\n",
        "print(f\"Percentage of 'False' in the full dataset: {total_false_pct:.2f}%\")\n",
        "print(f\"Percentage of 'False' when both variables are 0:: {subset_false_pct:.2f}%\")\n"
      ]
    },
    {
      "cell_type": "markdown",
      "metadata": {},
      "source": [
        "Temos uma correlação muito fraca, praticamente nula. Além disso, a porcentagem de 'False' diminuiu para quando analisamos apenas as entradas com valor nulo para as duas colunas analisadas. Sendo assim, rejeita-se a hipotese"
      ]
    },
    {
      "cell_type": "markdown",
      "metadata": {},
      "source": [
        "- 🔴 As variável **last_borrowed_in_months** e **last_amount_borrowed** devem ser excluidas"
      ]
    },
    {
      "cell_type": "markdown",
      "metadata": {},
      "source": [
        "#### HYPOTHESIS 3\n",
        "O quantidade de usúarios com valores 'inf' para a coluna **reported_income** e com valores negativos na coluna **external_data_provider_email_seen_before** é pequena, permitindo sua exclusão."
      ]
    },
    {
      "cell_type": "code",
      "execution_count": 11,
      "metadata": {},
      "outputs": [
        {
          "name": "stdout",
          "output_type": "stream",
          "text": [
            "67 infinite values (0.15%) found in the 'reported_income' column.\n",
            "1293 negative values (2.87%) found in the 'external_data_provider_email_seen_before' column.\n"
          ]
        }
      ],
      "source": [
        "# Verifying 'inf' values in 'reported_income'\n",
        "col_inf = 'reported_income'\n",
        "total_inf = np.isinf(df[col_inf]).sum()\n",
        "percentage_inf = total_inf / len(df) * 100\n",
        "print(f\"{total_inf} infinite values ({percentage_inf:.2f}%) found in the '{col_inf}' column.\")\n",
        "\n",
        "# Verifying negative values in 'external_data_provider_email_seen_before'\n",
        "col_neg = 'external_data_provider_email_seen_before'\n",
        "total_neg = (df[col_neg] < 0).sum()\n",
        "percentage_neg = total_neg / len(df) * 100\n",
        "print(f\"{total_neg} negative values ({percentage_neg:.2f}%) found in the '{col_neg}' column.\")\n"
      ]
    },
    {
      "cell_type": "markdown",
      "metadata": {},
      "source": [
        "- 🔴 As entradas com valores 'inf' na coluna **reported_income** e as com valores negativos na coluna **external_data_provider_email_seen_before** serão excluídas."
      ]
    },
    {
      "cell_type": "markdown",
      "metadata": {},
      "source": [
        "#### 🚮 Making necessary exclusions"
      ]
    },
    {
      "cell_type": "code",
      "execution_count": 12,
      "metadata": {},
      "outputs": [],
      "source": [
        "#Deleting the columns 'last_borrowed_in_months' and 'last_amount_borrowed'\n",
        "df_clean = df_clean.drop(columns=['last_borrowed_in_months', 'last_amount_borrowed'])\n",
        "\n",
        "#Deleting entries with 'inf' values ​​in 'reported_income' column\n",
        "df_clean ['reported_income'] = df_clean['reported_income'].replace([np.inf, -np.inf], np.nan)\n",
        "df_clean  = df_clean.dropna(subset=['reported_income'])\n",
        "\n",
        "\n",
        "#Deleting the negative values in column 'external_data_provider_email_seen_before' \n",
        "df_clean = df_clean.loc[df['external_data_provider_email_seen_before'] >= 0]"
      ]
    },
    {
      "cell_type": "markdown",
      "metadata": {},
      "source": [
        "#### TO CHECK LIST 🔎\n",
        "\n",
        "\n",
        "*   Possíveis outliers na coluna **income**, valor máximo bem superiores ao terceiro quartil.\n",
        "\n",
        "---\n",
        "\n",
        "*   As variáveis **facebook_profile**,\t**marketing_channel**,\t**job_name**, **external_data_provider_email_seen_before**, **lat_lon**, **user_agent**, **n_bankruptcies**, **n_defaulted_loans** e **reason** terão os seus valores ausentes tratados, o método (exclusão, substituição pela média/mediana) será definido nas etapas seguites.\n",
        "\n",
        "*   Colunas do tipo *object* que sofreram uma Anonimização parecem possuir chaves iguais, o que indica que são variáveis categoricas. \n",
        "\n",
        "*   **external_data_provider_first_name** possivelmente é um nome anonimizado, não serve para o estudo.\t\n",
        "\n",
        "*   **lat_lon**\tse estiver correta pode servir para plotar mapas, junto com outras informações"
      ]
    },
    {
      "cell_type": "markdown",
      "metadata": {},
      "source": [
        "### Numeric Variables -  Histogram"
      ]
    },
    {
      "cell_type": "code",
      "execution_count": 13,
      "metadata": {},
      "outputs": [
        {
          "name": "stdout",
          "output_type": "stream",
          "text": [
            "['score_3', 'score_4', 'score_5', 'score_6', 'risk_rate', 'income', 'n_bankruptcies', 'n_defaulted_loans', 'n_accounts', 'application_time_in_funnel', 'external_data_provider_credit_checks_last_month', 'external_data_provider_email_seen_before', 'external_data_provider_fraud_score', 'reported_income', 'shipping_zip_code']\n"
          ]
        }
      ],
      "source": [
        "#Separating only the numeric variables:\n",
        "num_var = df_clean.select_dtypes(include=['int64', 'float64']).columns.tolist()\n",
        "print(num_var)"
      ]
    },
    {
      "cell_type": "code",
      "execution_count": 14,
      "metadata": {},
      "outputs": [
        {
          "data": {
            "image/png": "[encoded data removed]",
            "text/plain": [
              "<Figure size 1500x2500 with 15 Axes>"
            ]
          },
          "metadata": {},
          "output_type": "display_data"
        }
      ],
      "source": [
        "#Making the plots\n",
        "\n",
        "#Calculating the number of rows needed \n",
        "total_variables = len(num_var)\n",
        "if total_variables%3 == 0:\n",
        "    rows = (total_variables // 3)\n",
        "else:\n",
        "    rows = (total_variables // 3) + 1\n",
        "    \n",
        "# Create subplots: one row per group of 3 plots\n",
        "fig, axs = plt.subplots(rows, 3, figsize=(15, 5 * rows))\n",
        "\n",
        "# If axs is a matrix (when there’s more than 1 row), flatten it into a 1D array for easier indexing\n",
        "axs = axs.flatten()\n",
        "\n",
        "# Loop through your numeric variables and create a histogram for each\n",
        "for i, var in enumerate(num_var):\n",
        "    axs[i].hist(df_clean[var], bins=30, color='skyblue', edgecolor='black')\n",
        "    axs[i].set_title(f'{var}')\n",
        "    axs[i].set_xlabel('')\n",
        "    axs[i].set_ylabel('')\n",
        "\n",
        "# Remove unused axes (if the total number of variables is not a multiple of 3)\n",
        "for j in range(i + 1, len(axs)):\n",
        "    fig.delaxes(axs[j])\n",
        "\n",
        "# Adjust spacing between subplots\n",
        "plt.tight_layout()\n",
        "plt.show()\n"
      ]
    },
    {
      "cell_type": "markdown",
      "metadata": {},
      "source": [
        "Insights:\n",
        "\n",
        "- 🟡 As variáveis **score_5**, **application_time_in_funnel**, **external_data_provider_email_seen_before**, **external_data_provider_fraud_score** apresentam uma distribuição homogenea.\n",
        "\n",
        "- 🟡 As variáveis **income** e **reported_income** parecem possuir possíveis outliers. Serão checados em uma etapa seguinte.\n",
        "\n",
        "- 🔴 A variável **shipping_zip_code** indica um código postal, logo é uma variável categorica."
      ]
    },
    {
      "cell_type": "code",
      "execution_count": 15,
      "metadata": {},
      "outputs": [],
      "source": [
        "#### 🚮 Making necessary changes"
      ]
    },
    {
      "cell_type": "code",
      "execution_count": 16,
      "metadata": {},
      "outputs": [],
      "source": [
        "df_clean['shipping_zip_code'] = df_clean['shipping_zip_code'].astype('object')\n"
      ]
    },
    {
      "cell_type": "markdown",
      "metadata": {},
      "source": [
        "#### TO CHECK LIST 🔎\n",
        "\n",
        "*   Verificar  impacto das variáveis **score_5**, **application_time_in_funnel**, **external_data_provider_email_seen_before**, **external_data_provider_fraud_score** no modelo de predição.\n",
        "\n",
        "*   Checar outliers nas colunas  **income** e **reported_income**.\n",
        "\n",
        "---\n",
        "\n",
        "*   As variáveis **facebook_profile**,\t**marketing_channel**,\t**job_name**, **external_data_provider_email_seen_before**, **lat_lon**, **user_agent**, **n_bankruptcies**, **n_defaulted_loans** e **reason** terão os seus valores ausentes tratados, o método (exclusão, substituição pela média/mediana) será definido nas etapas seguites.\n",
        "\n",
        "*   Colunas do tipo *object* que sofreram uma Anonimização parecem possuir chaves iguais, o que indica que são variáveis categoricas. \n",
        "\n",
        "*   **external_data_provider_first_name** possivelmente é um nome anonimizado, não serve para o estudo.\t\n",
        "\n",
        "*   **lat_lon**\tse estiver correta pode servir para plotar mapas, junto com outras informações"
      ]
    },
    {
      "cell_type": "markdown",
      "metadata": {},
      "source": [
        "### Categorical Variables - Descriptive statistics"
      ]
    },
    {
      "cell_type": "code",
      "execution_count": 17,
      "metadata": {},
      "outputs": [
        {
          "data": {
            "text/html": [
              "<div>\n",
              "<style scoped>\n",
              "    .dataframe tbody tr th:only-of-type {\n",
              "        vertical-align: middle;\n",
              "    }\n",
              "\n",
              "    .dataframe tbody tr th {\n",
              "        vertical-align: top;\n",
              "    }\n",
              "\n",
              "    .dataframe thead th {\n",
              "        text-align: right;\n",
              "    }\n",
              "</style>\n",
              "<table border=\"1\" class=\"dataframe\">\n",
              "  <thead>\n",
              "    <tr style=\"text-align: right;\">\n",
              "      <th></th>\n",
              "      <th>target_default</th>\n",
              "      <th>score_1</th>\n",
              "      <th>score_2</th>\n",
              "      <th>reason</th>\n",
              "      <th>facebook_profile</th>\n",
              "      <th>state</th>\n",
              "      <th>zip</th>\n",
              "      <th>channel</th>\n",
              "      <th>job_name</th>\n",
              "      <th>real_state</th>\n",
              "      <th>application_time_applied</th>\n",
              "      <th>email</th>\n",
              "      <th>external_data_provider_first_name</th>\n",
              "      <th>lat_lon</th>\n",
              "      <th>marketing_channel</th>\n",
              "      <th>profile_phone_number</th>\n",
              "      <th>shipping_state</th>\n",
              "      <th>shipping_zip_code</th>\n",
              "      <th>profile_tags</th>\n",
              "      <th>user_agent</th>\n",
              "    </tr>\n",
              "  </thead>\n",
              "  <tbody>\n",
              "    <tr>\n",
              "      <th>count</th>\n",
              "      <td>38405</td>\n",
              "      <td>38405</td>\n",
              "      <td>38405</td>\n",
              "      <td>38401</td>\n",
              "      <td>34562</td>\n",
              "      <td>38405</td>\n",
              "      <td>38405</td>\n",
              "      <td>38405</td>\n",
              "      <td>36011</td>\n",
              "      <td>38405</td>\n",
              "      <td>38405</td>\n",
              "      <td>38405</td>\n",
              "      <td>38405</td>\n",
              "      <td>37242</td>\n",
              "      <td>35351</td>\n",
              "      <td>38405</td>\n",
              "      <td>38405</td>\n",
              "      <td>38405</td>\n",
              "      <td>38405</td>\n",
              "      <td>37807</td>\n",
              "    </tr>\n",
              "    <tr>\n",
              "      <th>unique</th>\n",
              "      <td>2</td>\n",
              "      <td>7</td>\n",
              "      <td>35</td>\n",
              "      <td>13282</td>\n",
              "      <td>2</td>\n",
              "      <td>50</td>\n",
              "      <td>820</td>\n",
              "      <td>1</td>\n",
              "      <td>28331</td>\n",
              "      <td>5</td>\n",
              "      <td>31381</td>\n",
              "      <td>6</td>\n",
              "      <td>29284</td>\n",
              "      <td>20712</td>\n",
              "      <td>9</td>\n",
              "      <td>38405</td>\n",
              "      <td>25</td>\n",
              "      <td>25713</td>\n",
              "      <td>22680</td>\n",
              "      <td>297</td>\n",
              "    </tr>\n",
              "    <tr>\n",
              "      <th>top</th>\n",
              "      <td>False</td>\n",
              "      <td>DGCQep2AE5QRkNCshIAlFQ==</td>\n",
              "      <td>osCzpM4hJrxugqWWuZmMWw==</td>\n",
              "      <td>mLVIVxoGY7TUDJ1FyFoSIZi1SFcaBmO01AydRchaEiGYtU...</td>\n",
              "      <td>False</td>\n",
              "      <td>xsd3ZdsI3356I3xMxZeiqQ==</td>\n",
              "      <td>3k2JCQ8Bp5oDwaI39ZJgHA==</td>\n",
              "      <td>NCqL3QBx0pscDnx3ixKwXg==</td>\n",
              "      <td>mLVIVxoGY7TUDJ1FyFoSIZi1SFcaBmO01AydRchaEiGYtU...</td>\n",
              "      <td>N5/CE7lSkAfB04hVFFwllw==</td>\n",
              "      <td>03:47:15</td>\n",
              "      <td>gmail.com</td>\n",
              "      <td>cleopatra</td>\n",
              "      <td>(-5.164423488858103, -37.356920426246845)</td>\n",
              "      <td>Website</td>\n",
              "      <td>296-8101743</td>\n",
              "      <td>BR-SP</td>\n",
              "      <td>52411</td>\n",
              "      <td>{'tags': ['pro+aty']}</td>\n",
              "      <td>Mozilla/5.0 (Linux; Android 5.0.2; LG-V410/V41...</td>\n",
              "    </tr>\n",
              "    <tr>\n",
              "      <th>freq</th>\n",
              "      <td>32314</td>\n",
              "      <td>12972</td>\n",
              "      <td>3200</td>\n",
              "      <td>3740</td>\n",
              "      <td>21746</td>\n",
              "      <td>6544</td>\n",
              "      <td>493</td>\n",
              "      <td>38405</td>\n",
              "      <td>140</td>\n",
              "      <td>19051</td>\n",
              "      <td>5</td>\n",
              "      <td>19343</td>\n",
              "      <td>6</td>\n",
              "      <td>14</td>\n",
              "      <td>9355</td>\n",
              "      <td>1</td>\n",
              "      <td>5969</td>\n",
              "      <td>6</td>\n",
              "      <td>317</td>\n",
              "      <td>177</td>\n",
              "    </tr>\n",
              "  </tbody>\n",
              "</table>\n",
              "</div>"
            ],
            "text/plain": [
              "       target_default                   score_1                   score_2  \\\n",
              "count           38405                     38405                     38405   \n",
              "unique              2                         7                        35   \n",
              "top             False  DGCQep2AE5QRkNCshIAlFQ==  osCzpM4hJrxugqWWuZmMWw==   \n",
              "freq            32314                     12972                      3200   \n",
              "\n",
              "                                                   reason facebook_profile  \\\n",
              "count                                               38401            34562   \n",
              "unique                                              13282                2   \n",
              "top     mLVIVxoGY7TUDJ1FyFoSIZi1SFcaBmO01AydRchaEiGYtU...            False   \n",
              "freq                                                 3740            21746   \n",
              "\n",
              "                           state                       zip  \\\n",
              "count                      38405                     38405   \n",
              "unique                        50                       820   \n",
              "top     xsd3ZdsI3356I3xMxZeiqQ==  3k2JCQ8Bp5oDwaI39ZJgHA==   \n",
              "freq                        6544                       493   \n",
              "\n",
              "                         channel  \\\n",
              "count                      38405   \n",
              "unique                         1   \n",
              "top     NCqL3QBx0pscDnx3ixKwXg==   \n",
              "freq                       38405   \n",
              "\n",
              "                                                 job_name  \\\n",
              "count                                               36011   \n",
              "unique                                              28331   \n",
              "top     mLVIVxoGY7TUDJ1FyFoSIZi1SFcaBmO01AydRchaEiGYtU...   \n",
              "freq                                                  140   \n",
              "\n",
              "                      real_state application_time_applied      email  \\\n",
              "count                      38405                    38405      38405   \n",
              "unique                         5                    31381          6   \n",
              "top     N5/CE7lSkAfB04hVFFwllw==                 03:47:15  gmail.com   \n",
              "freq                       19051                        5      19343   \n",
              "\n",
              "       external_data_provider_first_name  \\\n",
              "count                              38405   \n",
              "unique                             29284   \n",
              "top                            cleopatra   \n",
              "freq                                   6   \n",
              "\n",
              "                                          lat_lon marketing_channel  \\\n",
              "count                                       37242             35351   \n",
              "unique                                      20712                 9   \n",
              "top     (-5.164423488858103, -37.356920426246845)           Website   \n",
              "freq                                           14              9355   \n",
              "\n",
              "       profile_phone_number shipping_state  shipping_zip_code  \\\n",
              "count                 38405          38405              38405   \n",
              "unique                38405             25              25713   \n",
              "top             296-8101743          BR-SP              52411   \n",
              "freq                      1           5969                  6   \n",
              "\n",
              "                 profile_tags  \\\n",
              "count                   38405   \n",
              "unique                  22680   \n",
              "top     {'tags': ['pro+aty']}   \n",
              "freq                      317   \n",
              "\n",
              "                                               user_agent  \n",
              "count                                               37807  \n",
              "unique                                                297  \n",
              "top     Mozilla/5.0 (Linux; Android 5.0.2; LG-V410/V41...  \n",
              "freq                                                  177  "
            ]
          },
          "execution_count": 17,
          "metadata": {},
          "output_type": "execute_result"
        }
      ],
      "source": [
        "df_clean.describe(include='object')"
      ]
    },
    {
      "cell_type": "markdown",
      "metadata": {},
      "source": [
        "Insights:\n",
        "\n",
        "- 🔴 As variáveis **reason**, **zip**, **job_name** e **profile_phone_number** apresentam muitas classes distintas e com uma frequência baixa, o que muito provavelmente não trazerá ganhos ao modelo e acarretarra em grande necessidade de poder computacional para o processamento.\n",
        "- 🟡 A variável **profile_tags** é composta por várias tags(códigos) em cada coluna, esses valores podem ser melhor investigado.\n",
        "- 🟡 A variável **shipping_zip_code** e **lat_lon** pode representar a posição geográfica dos clientes, porém de uma especificidade mais que necessário para esse projeto, a coluna **shipping_state** pode ser suficiente, separando os clientes por estado.\n",
        "- 🟡 As variáveis **application_time_applied** representam, respectivamente, hora da aplicação e posição geográfica e podem ser utilizadas para outras análises.\n",
        "- 🔴 A variável **channel** possui apenas uma categoria encriptografada, será excluída pois não tem valor para a predição.\n",
        "- 🔴 A variável **external_data_provider_first_name** representa nomes pessoais dos clientes (modificados), sem valor para a modelagem."
      ]
    },
    {
      "cell_type": "markdown",
      "metadata": {},
      "source": [
        "#### HYPOTHESIS 4\n",
        "\n",
        "É possível plotar um mapa com os clientes através das colunas **shipping_state**.... **shipping_zip_code** e **lat_lon** ."
      ]
    },
    {
      "cell_type": "code",
      "execution_count": 22,
      "metadata": {},
      "outputs": [
        {
          "name": "stderr",
          "output_type": "stream",
          "text": [
            "/var/folders/9g/f9jk4pv50cl42q7qhcx19fwh0000gn/T/ipykernel_36023/1132797012.py:9: FutureWarning: \n",
            "\n",
            "Passing `palette` without assigning `hue` is deprecated and will be removed in v0.14.0. Assign the `x` variable to `hue` and set `legend=False` for the same effect.\n",
            "\n",
            "  sns.barplot(x=estado_counts.index, y=estado_counts.values, palette=\"viridis\")\n"
          ]
        },
        {
          "data": {
            "image/png": "[encoded data removed]",
            "text/plain": [
              "<Figure size 1200x600 with 1 Axes>"
            ]
          },
          "metadata": {},
          "output_type": "display_data"
        }
      ],
      "source": [
        "import matplotlib.pyplot as plt\n",
        "import seaborn as sns\n",
        "\n",
        "# Conta quantas entregas foram feitas por estado\n",
        "estado_counts = df['shipping_state'].value_counts().sort_values(ascending=False)\n",
        "\n",
        "# Plota o gráfico\n",
        "plt.figure(figsize=(12, 6))\n",
        "sns.barplot(x=estado_counts.index, y=estado_counts.values, palette=\"viridis\")\n",
        "\n",
        "plt.title('Distribuição de Entregas por Estado')\n",
        "plt.xlabel('Estado')\n",
        "plt.ylabel('Quantidade de Entregas')\n",
        "plt.xticks(rotation=45)\n",
        "plt.tight_layout()\n",
        "plt.show()\n",
        "\n",
        "\n"
      ]
    },
    {
      "cell_type": "code",
      "execution_count": null,
      "metadata": {},
      "outputs": [],
      "source": [
        "# import geopandas as gpd\n",
        "# import pandas as pd\n",
        "# import matplotlib.pyplot as plt\n",
        "\n",
        "# # Carrega o shapefile dos estados brasileiros (geometria dos estados)\n",
        "# br_states = gpd.read_file(\"https://raw.githubusercontent.com/codeforamerica/click_that_hood/master/public/data/brazil-states.geojson\")\n",
        "\n",
        "# # Conta quantas entregas foram feitas por estado (sigla)\n",
        "# estado_counts = df['shipping_state'].value_counts().reset_index()\n",
        "# estado_counts.columns = ['sigla', 'entregas']\n",
        "\n",
        "# # Algumas geometrias usam nomes completos dos estados. Vamos mapear as siglas:\n",
        "# # Mapa de siglas para nomes\n",
        "# sigla_to_nome = {\n",
        "#     'AC': 'Acre', 'AL': 'Alagoas', 'AP': 'Amapá', 'AM': 'Amazonas',\n",
        "#     'BA': 'Bahia', 'CE': 'Ceará', 'DF': 'Distrito Federal', 'ES': 'Espírito Santo',\n",
        "#     'GO': 'Goiás', 'MA': 'Maranhão', 'MT': 'Mato Grosso', 'MS': 'Mato Grosso do Sul',\n",
        "#     'MG': 'Minas Gerais', 'PA': 'Pará', 'PB': 'Paraíba', 'PR': 'Paraná',\n",
        "#     'PE': 'Pernambuco', 'PI': 'Piauí', 'RJ': 'Rio de Janeiro', 'RN': 'Rio Grande do Norte',\n",
        "#     'RS': 'Rio Grande do Sul', 'RO': 'Rondônia', 'RR': 'Roraima', 'SC': 'Santa Catarina',\n",
        "#     'SP': 'São Paulo', 'SE': 'Sergipe', 'TO': 'Tocantins'\n",
        "# }\n",
        "\n",
        "# estado_counts['name'] = estado_counts['sigla'].map(sigla_to_nome)\n",
        "\n",
        "# # Junta as contagens com o GeoDataFrame dos estados\n",
        "# br_states = br_states.merge(estado_counts, how='left', left_on='name', right_on='name')\n",
        "\n",
        "# # Plota o mapa\n",
        "# fig, ax = plt.subplots(figsize=(12, 10))\n",
        "# br_states.plot(column='entregas', cmap='Blues', linewidth=0.8, ax=ax, edgecolor='0.8', legend=True)\n",
        "\n",
        "# plt.title('Quantidade de Entregas por Estado (shipping_state)', fontsize=16)\n",
        "# plt.axis('off')\n",
        "# plt.show()\n"
      ]
    },
    {
      "cell_type": "markdown",
      "metadata": {},
      "source": [
        "\n"
      ]
    },
    {
      "cell_type": "markdown",
      "metadata": {},
      "source": [
        "### Verificando das variáveis categoricas    REFAZER A PARTIR DAQUI"
      ]
    },
    {
      "cell_type": "markdown",
      "metadata": {},
      "source": [
        "### Numeric Variables -  Point-Biserial Correlation"
      ]
    },
    {
      "cell_type": "markdown",
      "metadata": {},
      "source": [
        "Será verificado a correlação das variáveis numericas com a variável alvo, assim como uma nova checagem de seus valores ausentes."
      ]
    },
    {
      "cell_type": "code",
      "execution_count": null,
      "metadata": {},
      "outputs": [],
      "source": [
        "import pandas as pd\n",
        "from scipy.stats import pointbiserialr\n",
        "\n",
        "# Create an empty list to store results\n",
        "results = []\n",
        "\n",
        "# Ensure all variables and the target are numeric\n",
        "df_test = df_clean.copy()  # Create a copy for testing\n",
        "df_test['target_default'] = pd.to_numeric(df_test['target_default'], errors='coerce')\n",
        "\n",
        "# Loop through each numeric variable\n",
        "for var in num_var:\n",
        "    # Drop rows with missing values for the current variable and target\n",
        "    temp_df = df_test[[var, 'target_default']].dropna()\n",
        "    \n",
        "    # Compute point-biserial correlation using aligned data\n",
        "    coef, p_value = pointbiserialr(temp_df[var], temp_df['target_default'])\n",
        "    \n",
        "    # Check for missing values in the original dataframe\n",
        "    n_missing = df_clean[var].isna().sum()\n",
        "    perc_missing = (n_missing / len(df_clean)) * 100\n",
        "    \n",
        "    # Append results to the list\n",
        "    results.append({\n",
        "        'Variable': var,\n",
        "        'Correlation Coefficient': round(coef, 4),\n",
        "        'P-Value': round(p_value, 4),\n",
        "        'Missing Values': n_missing,\n",
        "        'Missing %': round(perc_missing, 2)\n",
        "    })\n",
        "\n",
        "# Create a DataFrame from the results list\n",
        "correlation_df = pd.DataFrame(results)\n",
        "\n",
        "# Display the table\n",
        "correlation_df\n",
        "\n",
        "\n"
      ]
    },
    {
      "cell_type": "markdown",
      "metadata": {},
      "source": [
        "Insights:\n",
        "\n",
        "- 🟡 Algumas variáveis numéricas possuem um coeficiente de correlação linear extremamente baixo: 'score_4', 'score_5', 'score_6', 'n_defaulted_loans', 'external_data_provider_credit_checks_last_month', 'external_data_provider_fraud_score' and 'reported_income'.\tA depender do modelo de ML escolhido, podem ter pouca influência.\n",
        "\n",
        "- 🔴 A variável "
      ]
    },
    {
      "cell_type": "code",
      "execution_count": null,
      "metadata": {},
      "outputs": [],
      "source": [
        "#  df_clean  = df_clean.dropna(subset=['score_3'])"
      ]
    },
    {
      "cell_type": "markdown",
      "metadata": {},
      "source": [
        "#### HYPOTHESIS 4\n",
        "As distribuição da variável alvo nas diferentes categorias das variáveis **reason**, **zip**, **job_name**, **external_data_provider_first_name**, **profile_phone_number**, **profile_tags** e **user_agent** acontece de maneira uniforme, indicando o baixo valor preditivo dessas colunas."
      ]
    },
    {
      "cell_type": "markdown",
      "metadata": {},
      "source": [
        "Para isso, será usado o **Chi-Square Test of Independence**, que é um teste estatístico que verifica se há relação entre duas variáveis categóricas. "
      ]
    },
    {
      "cell_type": "markdown",
      "metadata": {},
      "source": [
        "**Chi-Square Test of Independence**\n",
        "Esse teste avalia se a distribuição das categorias de uma variável está relacionada ou independente da variável de interesse.\n",
        "\n",
        "O procedimento consiste em comparar os valores observados em uma tabela de contingência (frequências reais dos dados) com os valores esperados, que seriam esperados caso não houvesse relação entre as variáveis. Se a diferença entre os valores observados e esperados for estatisticamente significativa, rejeita-se a hipótese de independência — indicando uma possível associação entre a variável categórica analisada (como reason, job_name, user_agent, etc.) e a variável target_default.\n",
        "\n",
        "O resultado do teste é avaliado por meio do valor-p (p-value):\n",
        "\n",
        "Se o p-valor for menor que 0.05, rejeita-se a hipótese nula de independência. Isso indica que existe uma associação estatística significativa entre a variável categórica analisada (por exemplo, reason, job_name, zip, etc.) e a variável target_default.\n",
        "Se o p-valor for maior que 0.05, não há evidência suficiente para afirmar que existe associação entre as variáveis. Nesse caso, considera-se que a variável analisada é independente da variável alvo.\n",
        "\n",
        "Com base nesses resultados, é possível selecionar apenas as variáveis categóricas que apresentam associação significativa com target_default para etapas posteriores do processo de modelagem, como a criação de modelos preditivos ou análise de variáveis explicativas."
      ]
    },
    {
      "cell_type": "code",
      "execution_count": null,
      "metadata": {},
      "outputs": [
        {
          "name": "stdout",
          "output_type": "stream",
          "text": [
            "reason: p-value = 0.9929\n",
            "zip: p-value = 0.0001\n",
            "job_name: p-value = 0.0050\n",
            "external_data_provider_first_name: p-value = 0.5616\n",
            "profile_phone_number: p-value = 0.4977\n",
            "profile_tags: p-value = 0.0341\n",
            "user_agent: p-value = 0.0000\n"
          ]
        }
      ],
      "source": [
        "#Taking the test\n",
        "from scipy.stats import chi2_contingency\n",
        "\n",
        "for col in ['reason', 'zip', 'job_name', 'external_data_provider_first_name',\n",
        "            'profile_phone_number', 'profile_tags', 'user_agent']:\n",
        "    \n",
        "    cont_table = pd.crosstab(df[col], df['target_default'])\n",
        "    \n",
        "    if cont_table.shape[0] > 1 and cont_table.shape[1] > 1:\n",
        "        stat, p, dof, expected = chi2_contingency(cont_table)\n",
        "        print(f\"{col}: p-value = {p:.4f}\")\n"
      ]
    },
    {
      "cell_type": "markdown",
      "metadata": {},
      "source": [
        "\n",
        "- 🔴 As variáveis **reason**, **external_data_provider_first_name**, **profile_phone_number**, serão excluidas."
      ]
    },
    {
      "cell_type": "markdown",
      "metadata": {},
      "source": [
        "#### 🔀 Making necessary changes"
      ]
    },
    {
      "cell_type": "markdown",
      "metadata": {},
      "source": [
        "\n",
        "   --- categoric variables\n",
        "      --- describe(object)\n",
        "      --- qui-quadrado\n",
        "      --- Some plots?"
      ]
    },
    {
      "cell_type": "markdown",
      "metadata": {},
      "source": [
        "Separemos as varia'veis categoricas e plotaremos a frequencia de cada categoria, apenas as 10 mais frequentes serÃo plotadas, as restantes serã agrupadas em 'others'."
      ]
    },
    {
      "cell_type": "code",
      "execution_count": null,
      "metadata": {},
      "outputs": [
        {
          "name": "stdout",
          "output_type": "stream",
          "text": [
            "Index(['target_default', 'score_1', 'score_2', 'reason', 'facebook_profile',\n",
            "       'state', 'zip', 'channel', 'job_name', 'real_state',\n",
            "       'application_time_applied', 'email',\n",
            "       'external_data_provider_first_name', 'lat_lon', 'marketing_channel',\n",
            "       'profile_phone_number', 'shipping_state', 'shipping_zip_code',\n",
            "       'profile_tags', 'user_agent'],\n",
            "      dtype='object')\n"
          ]
        }
      ],
      "source": [
        "# Select only categorical variables (dtype 'object' or 'category')\n",
        "categorical_columns = df_clean.select_dtypes(include=['object', 'category']).columns\n",
        "print(categorical_columns)\n",
        "#Deleting"
      ]
    },
    {
      "cell_type": "markdown",
      "metadata": {},
      "source": [
        "Insights:\n",
        "editarrr\n",
        "\n",
        "- 🟡 As variáveis **score_5**, **application_time_in_funnel**, **external_data_provider_fraud_score** apresentam uma distribuição homoegenea.\n",
        "\n",
        "- 🟡 As variáveis **income** e **reported_income** possuem possíveis outliers. Serão checados em uma etapa seguinte.\n",
        "\n",
        "- 🔴 A variável **shipping_zip_code** indica um código postal, logo é uma variável categorica."
      ]
    },
    {
      "cell_type": "markdown",
      "metadata": {},
      "source": [
        "## Analyze correlations"
      ]
    },
    {
      "cell_type": "markdown",
      "metadata": {},
      "source": [
        "## Visualize categorical features"
      ]
    },
    {
      "cell_type": "markdown",
      "metadata": {},
      "source": [
        "## Detect outliers"
      ]
    },
    {
      "cell_type": "markdown",
      "metadata": {},
      "source": [
        "## Compare target vs. feature relationships"
      ]
    },
    {
      "cell_type": "markdown",
      "metadata": {
        "id": "PMX7YjXkY71O"
      },
      "source": [
        "##Checking for Outliers"
      ]
    },
    {
      "cell_type": "markdown",
      "metadata": {
        "id": "GIyFoHs2vyj5"
      },
      "source": [
        "To **search for outliers**, data from the numeric columns **account_length**, **number_vmail_messages**,  **total_day_minutes**, **total_day_calls**, **total_day_charge**, **total_eve_minutes**, **total_eve_calls**,  **total_eve_charge**, **total_night_minutes**, **total_night_calls**, **total_night_charge**, **total_intl_minutes**, **total_intl_calls**,  **total_intl_charge** and **customer_service_calls** will be checked.\n",
        "\n",
        "The **Z-Score method** will be used with a limit equal to 3."
      ]
    },
    {
      "cell_type": "code",
      "execution_count": null,
      "metadata": {
        "colab": {
          "base_uri": "https://localhost:8080/"
        },
        "id": "_njLlswjwa9L",
        "outputId": "af93a2d8-8603-492d-f3d0-c504aa17c7b8"
      },
      "outputs": [
        {
          "ename": "KeyError",
          "evalue": "'account_length'",
          "output_type": "error",
          "traceback": [
            "\u001b[0;31m---------------------------------------------------------------------------\u001b[0m",
            "\u001b[0;31mKeyError\u001b[0m                                  Traceback (most recent call last)",
            "File \u001b[0;32m~/Desktop/JOB/PROJECTS/credit_risk/venv_credit_risk/lib/python3.10/site-packages/pandas/core/indexes/base.py:3805\u001b[0m, in \u001b[0;36mIndex.get_loc\u001b[0;34m(self, key)\u001b[0m\n\u001b[1;32m   3804\u001b[0m \u001b[38;5;28;01mtry\u001b[39;00m:\n\u001b[0;32m-> 3805\u001b[0m     \u001b[38;5;28;01mreturn\u001b[39;00m \u001b[38;5;28;43mself\u001b[39;49m\u001b[38;5;241;43m.\u001b[39;49m\u001b[43m_engine\u001b[49m\u001b[38;5;241;43m.\u001b[39;49m\u001b[43mget_loc\u001b[49m\u001b[43m(\u001b[49m\u001b[43mcasted_key\u001b[49m\u001b[43m)\u001b[49m\n\u001b[1;32m   3806\u001b[0m \u001b[38;5;28;01mexcept\u001b[39;00m \u001b[38;5;167;01mKeyError\u001b[39;00m \u001b[38;5;28;01mas\u001b[39;00m err:\n",
            "File \u001b[0;32mindex.pyx:167\u001b[0m, in \u001b[0;36mpandas._libs.index.IndexEngine.get_loc\u001b[0;34m()\u001b[0m\n",
            "File \u001b[0;32mindex.pyx:196\u001b[0m, in \u001b[0;36mpandas._libs.index.IndexEngine.get_loc\u001b[0;34m()\u001b[0m\n",
            "File \u001b[0;32mpandas/_libs/hashtable_class_helper.pxi:7081\u001b[0m, in \u001b[0;36mpandas._libs.hashtable.PyObjectHashTable.get_item\u001b[0;34m()\u001b[0m\n",
            "File \u001b[0;32mpandas/_libs/hashtable_class_helper.pxi:7089\u001b[0m, in \u001b[0;36mpandas._libs.hashtable.PyObjectHashTable.get_item\u001b[0;34m()\u001b[0m\n",
            "\u001b[0;31mKeyError\u001b[0m: 'account_length'",
            "\nThe above exception was the direct cause of the following exception:\n",
            "\u001b[0;31mKeyError\u001b[0m                                  Traceback (most recent call last)",
            "Cell \u001b[0;32mIn[265], line 10\u001b[0m\n\u001b[1;32m      8\u001b[0m \u001b[38;5;66;03m# Checking each column in turn\u001b[39;00m\n\u001b[1;32m      9\u001b[0m \u001b[38;5;28;01mfor\u001b[39;00m column \u001b[38;5;129;01min\u001b[39;00m columns_num:\n\u001b[0;32m---> 10\u001b[0m     mean \u001b[38;5;241m=\u001b[39m \u001b[43mdf\u001b[49m\u001b[43m[\u001b[49m\u001b[43mcolumn\u001b[49m\u001b[43m]\u001b[49m\u001b[38;5;241m.\u001b[39mmean()\n\u001b[1;32m     11\u001b[0m     std \u001b[38;5;241m=\u001b[39m df[column]\u001b[38;5;241m.\u001b[39mstd()\n\u001b[1;32m     13\u001b[0m     \u001b[38;5;66;03m# Calculating the Z-Score for the column\u001b[39;00m\n",
            "File \u001b[0;32m~/Desktop/JOB/PROJECTS/credit_risk/venv_credit_risk/lib/python3.10/site-packages/pandas/core/frame.py:4102\u001b[0m, in \u001b[0;36mDataFrame.__getitem__\u001b[0;34m(self, key)\u001b[0m\n\u001b[1;32m   4100\u001b[0m \u001b[38;5;28;01mif\u001b[39;00m \u001b[38;5;28mself\u001b[39m\u001b[38;5;241m.\u001b[39mcolumns\u001b[38;5;241m.\u001b[39mnlevels \u001b[38;5;241m>\u001b[39m \u001b[38;5;241m1\u001b[39m:\n\u001b[1;32m   4101\u001b[0m     \u001b[38;5;28;01mreturn\u001b[39;00m \u001b[38;5;28mself\u001b[39m\u001b[38;5;241m.\u001b[39m_getitem_multilevel(key)\n\u001b[0;32m-> 4102\u001b[0m indexer \u001b[38;5;241m=\u001b[39m \u001b[38;5;28;43mself\u001b[39;49m\u001b[38;5;241;43m.\u001b[39;49m\u001b[43mcolumns\u001b[49m\u001b[38;5;241;43m.\u001b[39;49m\u001b[43mget_loc\u001b[49m\u001b[43m(\u001b[49m\u001b[43mkey\u001b[49m\u001b[43m)\u001b[49m\n\u001b[1;32m   4103\u001b[0m \u001b[38;5;28;01mif\u001b[39;00m is_integer(indexer):\n\u001b[1;32m   4104\u001b[0m     indexer \u001b[38;5;241m=\u001b[39m [indexer]\n",
            "File \u001b[0;32m~/Desktop/JOB/PROJECTS/credit_risk/venv_credit_risk/lib/python3.10/site-packages/pandas/core/indexes/base.py:3812\u001b[0m, in \u001b[0;36mIndex.get_loc\u001b[0;34m(self, key)\u001b[0m\n\u001b[1;32m   3807\u001b[0m     \u001b[38;5;28;01mif\u001b[39;00m \u001b[38;5;28misinstance\u001b[39m(casted_key, \u001b[38;5;28mslice\u001b[39m) \u001b[38;5;129;01mor\u001b[39;00m (\n\u001b[1;32m   3808\u001b[0m         \u001b[38;5;28misinstance\u001b[39m(casted_key, abc\u001b[38;5;241m.\u001b[39mIterable)\n\u001b[1;32m   3809\u001b[0m         \u001b[38;5;129;01mand\u001b[39;00m \u001b[38;5;28many\u001b[39m(\u001b[38;5;28misinstance\u001b[39m(x, \u001b[38;5;28mslice\u001b[39m) \u001b[38;5;28;01mfor\u001b[39;00m x \u001b[38;5;129;01min\u001b[39;00m casted_key)\n\u001b[1;32m   3810\u001b[0m     ):\n\u001b[1;32m   3811\u001b[0m         \u001b[38;5;28;01mraise\u001b[39;00m InvalidIndexError(key)\n\u001b[0;32m-> 3812\u001b[0m     \u001b[38;5;28;01mraise\u001b[39;00m \u001b[38;5;167;01mKeyError\u001b[39;00m(key) \u001b[38;5;28;01mfrom\u001b[39;00m\u001b[38;5;250m \u001b[39m\u001b[38;5;21;01merr\u001b[39;00m\n\u001b[1;32m   3813\u001b[0m \u001b[38;5;28;01mexcept\u001b[39;00m \u001b[38;5;167;01mTypeError\u001b[39;00m:\n\u001b[1;32m   3814\u001b[0m     \u001b[38;5;66;03m# If we have a listlike key, _check_indexing_error will raise\u001b[39;00m\n\u001b[1;32m   3815\u001b[0m     \u001b[38;5;66;03m#  InvalidIndexError. Otherwise we fall through and re-raise\u001b[39;00m\n\u001b[1;32m   3816\u001b[0m     \u001b[38;5;66;03m#  the TypeError.\u001b[39;00m\n\u001b[1;32m   3817\u001b[0m     \u001b[38;5;28mself\u001b[39m\u001b[38;5;241m.\u001b[39m_check_indexing_error(key)\n",
            "\u001b[0;31mKeyError\u001b[0m: 'account_length'"
          ]
        }
      ],
      "source": [
        "columns_num = ['account_length', 'number_vmail_messages',  'total_day_minutes',\n",
        "                   'total_day_calls', 'total_day_charge', 'total_eve_minutes',\n",
        "                   'total_eve_calls',  'total_eve_charge', 'total_night_minutes',\n",
        "                   'total_night_calls',  'total_night_charge','total_intl_minutes',\n",
        "                   'total_intl_calls',  'total_intl_charge', 'customer_service_calls']\n",
        "df_out = df.copy()\n",
        "\n",
        "# Checking each column in turn\n",
        "for column in columns_num:\n",
        "    mean = df[column].mean()\n",
        "    std = df[column].std()\n",
        "\n",
        "    # Calculating the Z-Score for the column\n",
        "    z_scores = (df_out[column] - mean) / std\n",
        "\n",
        "    # Filter DataFrame by removing rows with Z-Score above threshold\n",
        "    df_out = df_out[z_scores.abs() <= 3]\n",
        "\n",
        "\n",
        "print(f\"Percentage of outliers data: {(1-(df_out.shape[0]/df.shape[0]))*100:.3f}%\")\n"
      ]
    },
    {
      "cell_type": "markdown",
      "metadata": {
        "id": "r8kz3yGN3g5C"
      },
      "source": [
        "These data considered outliers **will be deleted** in the Data Preparation."
      ]
    },
    {
      "cell_type": "markdown",
      "metadata": {
        "id": "47F_dJ8RZLHI"
      },
      "source": [
        "##Univariate Analysis"
      ]
    },
    {
      "cell_type": "markdown",
      "metadata": {
        "id": "V6nsL1KWi260"
      },
      "source": [
        "First, let's check **basic descriptive** data for each variable:"
      ]
    },
    {
      "cell_type": "markdown",
      "metadata": {
        "id": "ciaat-NqmSLE"
      },
      "source": [
        "\n",
        "\n",
        "*   We can verify that the **target variable has an average of 0.145**. Which means 14.5% of the values ​​are equal to 1 (churn) and 85.5% of the values ​​are equal to 0 (not churn). With this, we then have a problem of **unbalanced data problem,** which will need to be treated before modeling.\n",
        "\n",
        "Let's check the **distribution** of quantitative variables"
      ]
    },
    {
      "cell_type": "code",
      "execution_count": null,
      "metadata": {
        "colab": {
          "base_uri": "https://localhost:8080/",
          "height": 1000
        },
        "id": "v42P73romRUR",
        "outputId": "0b4e9f56-15b9-4a3b-b37b-575e65c75594"
      },
      "outputs": [],
      "source": [
        "columns_num = ['account_length']\n",
        "plt.figure(figsize=(15, 12))\n",
        "\n",
        "# Loop to create each graph\n",
        "for i, column in enumerate(columns_num, 1):\n",
        "    plt.subplot(5, 3, i)\n",
        "    sns.histplot(df[column], kde=True, bins=20, color='blue')\n",
        "    plt.title(f\"{column}\")\n",
        "\n",
        "    plt.ylabel('')\n",
        "    plt.xticks(fontsize=8)\n",
        "    plt.yticks(fontsize=8)\n",
        "\n",
        "plt.subplots_adjust(hspace=0.9, wspace=0.6)\n",
        "plt.show()"
      ]
    },
    {
      "cell_type": "markdown",
      "metadata": {
        "id": "bpfc_gb7qwPz"
      },
      "source": [
        "\n",
        "*   With the exception of the variables **customer_service_calls** and **number_vmail_messages**, all variables were shown to have a Gaussian-like distribution, indicating that this data set was probably standardized. This will reduce some work in Data Preparation.\n",
        "\n",
        "\n"
      ]
    },
    {
      "cell_type": "markdown",
      "metadata": {
        "id": "QTH5LY-MkWim"
      },
      "source": [
        "Analyzing **categorical variables**:\n",
        "\n",
        "We know that the categorical variables **international_plan**,  **voice_mail_plan** and **churn** are **binary**, reflecting the **yes/no** information.\n",
        "\n",
        "First, let's check the **number of unique values** ​​of the variable **area_code** and then visualize the distribution of all these categorical variables."
      ]
    },
    {
      "cell_type": "code",
      "execution_count": null,
      "metadata": {
        "colab": {
          "base_uri": "https://localhost:8080/"
        },
        "id": "9mRjTf65B0xd",
        "outputId": "d5e19724-970a-4e1e-913f-296d0a462d82"
      },
      "outputs": [],
      "source": [
        "print(f\"Unique values for area_code: {df['area_code'].nunique()}\")"
      ]
    },
    {
      "cell_type": "code",
      "execution_count": null,
      "metadata": {
        "colab": {
          "base_uri": "https://localhost:8080/",
          "height": 468
        },
        "id": "xES-bMgumbLB",
        "outputId": "bd58bcfd-16f4-462c-bc54-5cdfa56f0594"
      },
      "outputs": [],
      "source": [
        "# List of numeric variables that are actually categorical\n",
        "categorical_numerical_vars = ['area_code', 'international_plan', 'voice_mail_plan', 'churn']\n",
        "\n",
        "plt.figure(figsize=(15, 5))\n",
        "# Loop to create each graph\n",
        "for i, column in enumerate(categorical_numerical_vars, 1):\n",
        "    plt.subplot(2, 2, i)\n",
        "    ax = sns.countplot(x=df[column])\n",
        "\n",
        "    # Calculates and adds percentages within bars\n",
        "    total = len(df[column])\n",
        "    for p in ax.patches:\n",
        "        percentage = f'{100 * p.get_height() / total:.1f}%'\n",
        "        ax.annotate(percentage,\n",
        "                    (p.get_x() + p.get_width() / 2, p.get_height() * 0.9),  # Adjusting the position within the bar\n",
        "                    ha='center', va='top', fontsize=10, color='white', weight='bold')\n",
        "\n",
        "    plt.title(f\"{column}\")\n",
        "    plt.xlabel('')\n",
        "    plt.ylabel(\"\")\n",
        "    plt.xticks()\n",
        "\n",
        "plt.subplots_adjust(hspace=0.9, wspace=0.6)\n",
        "plt.show()\n"
      ]
    },
    {
      "cell_type": "markdown",
      "metadata": {
        "id": "RkUztC6EDY_I"
      },
      "source": [
        "* the variable **area_code** demonstrates a reasonable distribution of the data. Some **data preprocessing technique** can be applied to this variable for use in the modeling phase, so that its values ​​are not interpreted as integers.\n",
        "\n",
        "*   We can realize **most of customers don't have** the international plan or the voice mail plan."
      ]
    },
    {
      "cell_type": "markdown",
      "metadata": {
        "id": "DMlmLrowZN7F"
      },
      "source": [
        "##Multivariate Analysis"
      ]
    },
    {
      "cell_type": "markdown",
      "metadata": {
        "id": "2RnkTsKQZAUf"
      },
      "source": [
        "Let's check the **correlation between the numerical variables**, where values ​​close to 1 and -1 indicate a strong correlation and values ​​close to 1 indicate almost zero correlation."
      ]
    },
    {
      "cell_type": "code",
      "execution_count": null,
      "metadata": {
        "colab": {
          "base_uri": "https://localhost:8080/",
          "height": 860
        },
        "id": "MaKWF73ita7R",
        "outputId": "44fea4e6-4f52-4424-e68d-5e2801f451af"
      },
      "outputs": [],
      "source": [
        "columns_num = ['account_length', 'number_vmail_messages',  'total_day_minutes',\n",
        "                   'total_day_calls', 'total_day_charge', 'total_eve_minutes',\n",
        "                   'total_eve_calls',  'total_eve_charge', 'total_night_minutes',\n",
        "                   'total_night_calls',  'total_night_charge','total_intl_minutes',\n",
        "                   'total_intl_calls',  'total_intl_charge', 'customer_service_calls', 'churn']\n",
        "df_num = df[columns_num]\n",
        "correlation_matrix = df_num.corr()\n",
        "# Printing a heatmap\n",
        "plt.figure(figsize=(10, 8))\n",
        "sns.heatmap(correlation_matrix, annot=True, cmap='coolwarm', fmt=\".2f\")\n",
        "plt.title(\"Correlation Matrix\")\n",
        "plt.show()"
      ]
    },
    {
      "cell_type": "markdown",
      "metadata": {
        "id": "sgywYrfFYuJa"
      },
      "source": [
        "* We noticed the most of variables have a **weak correlation**. This weak correlation with the target variable **can harm certain classification algorithms** such as logistic regression. However, the variables **total_day minutes**,  **total_day_charge** and **customer_service_calls** stands out with higher correlations.\n",
        "\n",
        "* As expected, the variables representing the **number of minutes** consumed during each period of the day are **directly related** to the **corresponding charges** for those calls."
      ]
    },
    {
      "cell_type": "markdown",
      "metadata": {
        "id": "QwIPkriV1AyL"
      },
      "source": [
        "Now **among the categorical variables**, it is important to visualize the **relationship of each one with the target** variable:"
      ]
    },
    {
      "cell_type": "code",
      "execution_count": null,
      "metadata": {
        "colab": {
          "base_uri": "https://localhost:8080/",
          "height": 468
        },
        "id": "GcKXuuF-1VX5",
        "outputId": "63c1e3cc-974b-4b6b-8809-131adc702656"
      },
      "outputs": [],
      "source": [
        "plt.figure(figsize=(15, 5))\n",
        "cat_var = ['area_code', 'international_plan', 'voice_mail_plan']\n",
        "#Creating the graphics\n",
        "for i, cat_var in enumerate(cat_var, 1):\n",
        "\n",
        "    plt.subplot(1, 3, i)\n",
        "    sns.barplot(x=df[cat_var], y=df['churn'], errorbar=None)\n",
        "    plt.title(f'Churn rate by {cat_var}')\n",
        "    plt.xlabel('')\n",
        "    plt.ylabel('')\n",
        "\n",
        "plt.subplots_adjust(hspace=0.9, wspace=0.6)\n",
        "plt.show()"
      ]
    },
    {
      "cell_type": "markdown",
      "metadata": {
        "id": "UlGrexmK4FLp"
      },
      "source": [
        "**Some insights:**\n",
        "\n",
        "\n",
        "*   The churn rate is well distributed across all **area_code** classes, this variable will probably **not have much influence** in the prediction.\n",
        "\n",
        "*   Customers **who have an international plan have their churn rate almost tripled**, which demonstrates a great influence of this variable.\n",
        "\n",
        "*   Customers **who do not have a voice plan are about twice as likely to leave the service** as customers who have a voice plan."
      ]
    },
    {
      "cell_type": "markdown",
      "metadata": {
        "id": "i52evR5HSAag"
      },
      "source": [
        "#Data Preparation"
      ]
    },
    {
      "cell_type": "markdown",
      "metadata": {
        "id": "3wwFwqnv7AS2"
      },
      "source": [
        "In this step, we will **clean the data** according to the insights from the previous step. After that, feature engineering techniques will be used to **enable the modeling of categorical data**, transforming it into discrete data. Finally,the data will then be **divided between training and test sets**."
      ]
    },
    {
      "cell_type": "markdown",
      "metadata": {
        "id": "LEtt6htp5zfj"
      },
      "source": [
        "##Data Cleaning"
      ]
    },
    {
      "cell_type": "markdown",
      "metadata": {
        "id": "LN6OHq9JD-lK"
      },
      "source": [
        "We will delete the entire **first column** and the **outliers** identified by the zcores method."
      ]
    },
    {
      "cell_type": "code",
      "execution_count": null,
      "metadata": {
        "id": "8TQJjmD7Ec7t"
      },
      "outputs": [],
      "source": [
        "# Making changes in a copy of the dataset\n",
        "df_clean = df.copy()\n",
        "\n",
        "#Deleting the spare index\n",
        "df_clean = df_clean.drop(columns=['Unnamed: 0'])"
      ]
    },
    {
      "cell_type": "code",
      "execution_count": null,
      "metadata": {
        "colab": {
          "base_uri": "https://localhost:8080/"
        },
        "id": "6xp3M05c1A-K",
        "outputId": "bee1b13a-fd55-46c5-ff58-c0c2b46753c8"
      },
      "outputs": [],
      "source": [
        "columns_num = ['account_length', 'number_vmail_messages',  'total_day_minutes',\n",
        "                   'total_day_calls', 'total_day_charge', 'total_eve_minutes',\n",
        "                   'total_eve_calls',  'total_eve_charge', 'total_night_minutes',\n",
        "                   'total_night_calls',  'total_night_charge','total_intl_minutes',\n",
        "                   'total_intl_calls',  'total_intl_charge', 'customer_service_calls']\n",
        "# Checking each numeric column in turn\n",
        "for column in columns_num:\n",
        "    mean = df[column].mean()\n",
        "    std = df[column].std()\n",
        "\n",
        "    # Calculating the Z-Score for the column\n",
        "    z_scores = (df_clean[column] - mean) / std\n",
        "\n",
        "    # Filter DataFrame by removing rows with Z-Score above threshold\n",
        "    df_clean = df_clean[z_scores.abs() <= 3]\n",
        "\n",
        "print(f\"{(1-df_clean.shape[0]/df.shape[0])*100:.2f} % of the original data were excluded\")"
      ]
    },
    {
      "cell_type": "code",
      "execution_count": null,
      "metadata": {
        "colab": {
          "base_uri": "https://localhost:8080/",
          "height": 224
        },
        "id": "Wh6ikFcTMIeB",
        "outputId": "44895b2a-b2cd-4137-a219-9789cb5f2478"
      },
      "outputs": [],
      "source": [
        "df_clean.head()"
      ]
    },
    {
      "cell_type": "markdown",
      "metadata": {
        "id": "YZ_NW6iz55-t"
      },
      "source": [
        "##Feature Engineering"
      ]
    },
    {
      "cell_type": "markdown",
      "metadata": {
        "id": "EfUfe7DmUDxv"
      },
      "source": [
        "###One-Hot Enconding"
      ]
    },
    {
      "cell_type": "markdown",
      "metadata": {
        "id": "gAvhnPfKS_VD"
      },
      "source": [
        "One-Hot Encoding is a data preprocessing technique that **converts categorical variables into binary columns**, with each column representing a distinct category. This method is particularly useful when the variable has a limited number of categories, ensuring that each category is treated independently **without implying any order or relationship between them**.\n",
        "\n",
        "In this case, we will apply One-Hot Encoding to the **area_code** variable, as it has a **small number of distinct values**."
      ]
    },
    {
      "cell_type": "code",
      "execution_count": null,
      "metadata": {
        "id": "Lh03ry09TTyQ"
      },
      "outputs": [],
      "source": [
        "#One-Hot Encoding for 'area_code'\n",
        "df_ft_eng = df_clean.copy()\n",
        "df_one_hot = pd.get_dummies(df_ft_eng['area_code'], drop_first=False).astype(int)\n",
        "\n",
        "#Concatenating the transformations to the original DataFrame\n",
        "df_ft_eng = pd.concat([df_ft_eng.drop(columns=['area_code']), df_one_hot], axis=1)\n",
        "\n",
        "#All column names must be in string format for future model packages to work correctly\n",
        "df_ft_eng.columns = df_ft_eng.columns.astype(str)"
      ]
    },
    {
      "cell_type": "code",
      "execution_count": null,
      "metadata": {
        "colab": {
          "base_uri": "https://localhost:8080/"
        },
        "id": "mQx-1QDPUONj",
        "outputId": "474c213d-8cd7-47cb-d128-818a8a9c33b9"
      },
      "outputs": [],
      "source": [
        "#Showing the final columns\n",
        "print (df_ft_eng.shape)\n",
        "df_ft_eng.columns"
      ]
    },
    {
      "cell_type": "code",
      "execution_count": null,
      "metadata": {
        "colab": {
          "base_uri": "https://localhost:8080/",
          "height": 253
        },
        "id": "__N22NX99hF_",
        "outputId": "528118e7-887b-4b11-b2e6-4b56a4ff5b42"
      },
      "outputs": [],
      "source": [
        "df_ft_eng.head()"
      ]
    },
    {
      "cell_type": "markdown",
      "metadata": {
        "id": "1svdDcSj5_ge"
      },
      "source": [
        "##Feature Scaling"
      ]
    },
    {
      "cell_type": "markdown",
      "metadata": {
        "id": "xikg5GYn7dT6"
      },
      "source": [
        "**Standardization** is a preprocessing technique that transforms variables to have a mean of zero and a standard deviation of one. This is done by subtracting the mean from each variable and dividing by its standard deviation.\n",
        "\n",
        "Standardization is crucial when variables have different scales or units, **as it ensures that no variable disproportionately influences the model**.\n",
        "\n",
        "In this project, **we will apply standardization to the numerical variables**, as they have approximately normal distributions. This will help models like Logistic Regression and Support Vector Machines (SVM) perform better, **ensuring that all features contribute equally to the model's learning process**.\n",
        "\n",
        "The standardization of numerical variables **will be performed within the pipeline** to be created in the model creation stage. The **StandardScaler** package from scikit-learn will be used for this purpose."
      ]
    },
    {
      "cell_type": "markdown",
      "metadata": {
        "id": "gFzUQYJh6DZG"
      },
      "source": [
        "##Division of the dataset"
      ]
    },
    {
      "cell_type": "code",
      "execution_count": null,
      "metadata": {
        "colab": {
          "base_uri": "https://localhost:8080/"
        },
        "id": "POOzcoKbWg_i",
        "outputId": "6e09c5c7-50a4-4e82-af41-16352346010a"
      },
      "outputs": [],
      "source": [
        "#Importing the package needed for split\n",
        "from sklearn.model_selection import train_test_split\n",
        "\n",
        "#Dividing the dataset into features and targets\n",
        "X = df_ft_eng.drop('churn', axis=1)  # features\n",
        "y = df_ft_eng['churn']  # target\n",
        "\n",
        "#Splitting into training set (70%) and test set (30%),\n",
        "#the training set will be subdivided into a validation set during cross-validation\n",
        "X_train, X_test, y_train, y_test = train_test_split(X, y, test_size=0.3, random_state=42)\n",
        "\n",
        "#Checking the sizes of the divisions\n",
        "print(f\"Training set size: {X_train.shape}\")\n",
        "print(f\"Testing set size: {X_test.shape}\")\n"
      ]
    },
    {
      "cell_type": "markdown",
      "metadata": {},
      "source": []
    },
    {
      "cell_type": "markdown",
      "metadata": {
        "id": "znXfgxJa6MXy"
      },
      "source": [
        "##Data Balancing"
      ]
    },
    {
      "cell_type": "markdown",
      "metadata": {
        "id": "my4cqitDKYPe"
      },
      "source": [
        "**Oversampling is a technique used to deal with class imbalance in classification problems**, where the minority class has far fewer examples than the majority class, as is the case in our case where **churn=1** represents **only 14.5%**.\n",
        "\n",
        "The process involves **generating synthetic copies of the observations of the minority class**, increasing their presence in the dataset and balancing the distribution between the classes.\n",
        "\n",
        "This DataFrame contains only about 3,000 rows, the use of oversampling is important because the limited amount of data can hinder the model's ability to generalize well, especially when the classes are imbalanced.\n",
        "\n",
        "The balancing of data **will be performed within the pipeline** too."
      ]
    },
    {
      "cell_type": "markdown",
      "metadata": {
        "id": "Ka-oIr9ISBzC"
      },
      "source": [
        "#Modeling"
      ]
    },
    {
      "cell_type": "markdown",
      "metadata": {
        "id": "9qj_lPa2vfzv"
      },
      "source": [
        "This step will follow the following sequence: First, we will **create a pipeline** for training multiple models, after which **two models will be chosen** to move forward. These two models will be **hyperparameterized** and, finally, they will be combined into a **ensemble model**."
      ]
    },
    {
      "cell_type": "markdown",
      "metadata": {
        "id": "9PgE07I2DTVy"
      },
      "source": [
        "##Creating a Pipeline"
      ]
    },
    {
      "cell_type": "markdown",
      "metadata": {
        "id": "zACpH9NJ1XJP"
      },
      "source": [
        "A Pipeline will be created to chain the cross validation and data standardization process, in order to organize this flow and allow the simultaneous testing of several different models, avoiding code repetition."
      ]
    },
    {
      "cell_type": "code",
      "execution_count": null,
      "metadata": {
        "colab": {
          "base_uri": "https://localhost:8080/",
          "height": 1000
        },
        "id": "u7Jr-GVW8k6i",
        "outputId": "ee36f9f9-ec11-4a37-8522-65057d366b04"
      },
      "outputs": [],
      "source": [
        "#Importing the necessary packages and models\n",
        "from sklearn.pipeline import Pipeline\n",
        "from imblearn.pipeline import Pipeline as ImbPipeline\n",
        "from sklearn.compose import ColumnTransformer\n",
        "from sklearn.preprocessing import StandardScaler\n",
        "from sklearn.model_selection import cross_val_predict, StratifiedKFold\n",
        "from sklearn.metrics import recall_score, precision_score, accuracy_score, confusion_matrix, classification_report\n",
        "from imblearn.over_sampling import SMOTE\n",
        "\n",
        "from sklearn.ensemble import RandomForestClassifier\n",
        "from sklearn.linear_model import LogisticRegression\n",
        "from sklearn.svm import SVC\n",
        "from sklearn.tree import DecisionTreeClassifier\n",
        "from sklearn.neighbors import KNeighborsClassifier\n",
        "\n",
        "#Highlighting quantitative variables so that only they are standardized in pre-processing\n",
        "num_features = ['account_length', 'number_vmail_messages', 'total_day_minutes',\n",
        "                'total_day_calls', 'total_day_charge', 'total_eve_minutes',\n",
        "                'total_eve_calls', 'total_eve_charge', 'total_night_minutes',\n",
        "                'total_night_calls', 'total_night_charge', 'total_intl_minutes',\n",
        "                'total_intl_calls', 'total_intl_charge', 'customer_service_calls']\n",
        "\n",
        "cat_features = ['international_plan', 'voice_mail_plan', '408', '415', '510']\n",
        "\n",
        "preprocessor = ColumnTransformer([\n",
        "    ('num_scaler', StandardScaler(), num_features),\n",
        "    ('passthrough', 'passthrough', cat_features)\n",
        "])\n",
        "\n",
        "#List of models\n",
        "models = {\n",
        "    'Random Forest': RandomForestClassifier(random_state=42),\n",
        "    'Logistic Regression': LogisticRegression(),\n",
        "    'SVM': SVC(probability=True),\n",
        "    'Decision Tree': DecisionTreeClassifier(),\n",
        "    'KNN': KNeighborsClassifier()\n",
        "}\n",
        "\n",
        "#Defining the number of folds for Cross-Validation\n",
        "cv = StratifiedKFold(n_splits=5, shuffle=True, random_state=42)\n",
        "\n",
        "#List to store the results\n",
        "results = []\n",
        "\n",
        "#Testing all models\n",
        "for name, model in models.items():\n",
        "    print(f\"\\nTesting {name}...\")\n",
        "\n",
        "    #Creating the pipeline\n",
        "    pipeline = ImbPipeline([\n",
        "        ('preprocessing', preprocessor),\n",
        "        ('smote', SMOTE(sampling_strategy='auto', random_state=42)),\n",
        "        ('classifier', model)\n",
        "    ])\n",
        "\n",
        "    #Getting Predictions with Cross-Validation\n",
        "    y_pred = cross_val_predict(pipeline, X_train, y_train, cv=cv)\n",
        "\n",
        "    #Calculating metrics\n",
        "    recall = recall_score(y_train, y_pred)\n",
        "    precision = precision_score(y_train, y_pred)\n",
        "    accuracy = accuracy_score(y_train, y_pred)\n",
        "\n",
        "    results.append([name, recall, precision, accuracy])\n",
        "\n",
        "    #Creating classification Report and confusion matrix\n",
        "    print(\"Classification Report:\\n\", classification_report(y_train, y_pred, digits=4))\n",
        "    cm = confusion_matrix(y_train, y_pred)\n",
        "\n",
        "    #Plotting the confusion matrix\n",
        "    plt.figure(figsize=(6, 4))\n",
        "    sns.heatmap(cm, annot=True, fmt='d', cmap='Blues', xticklabels=['Negative', 'Positive'], yticklabels=['Negative', 'Positive'])\n",
        "    plt.title(f'Confusion Matrix - {name}')\n",
        "    plt.ylabel('Actual')\n",
        "    plt.xlabel('Predicted')\n",
        "    plt.show()\n",
        "    print('\\n\\n')\n",
        "\n",
        "#Creating a dataframe with the results\n",
        "df_results = pd.DataFrame(results, columns=['Model', 'Recall', 'Precision', 'Accuracy'])\n",
        "\n"
      ]
    },
    {
      "cell_type": "markdown",
      "metadata": {
        "id": "XZ-68ufdDFVV"
      },
      "source": [
        "## Choosing the best Models"
      ]
    },
    {
      "cell_type": "markdown",
      "metadata": {
        "id": "IaYpAsS8F4ar"
      },
      "source": [
        "In churn analysis, our main goal is to **correctly identify customers who will cancel**, as this allows the company to take preventive actions to retain them. For this reason, **Recall will be our main metric**, as it measures the proportion of customers who actually canceled and who were correctly classified by the model.\n",
        "\n",
        "However, **we will also evaluate Precision** in the background, as it helps us ensure that, when predicting churn, **we are minimizing false positives, avoiding unnecessary alarms**."
      ]
    },
    {
      "cell_type": "code",
      "execution_count": null,
      "metadata": {
        "colab": {
          "base_uri": "https://localhost:8080/",
          "height": 238
        },
        "id": "kI8FghZp9r7W",
        "outputId": "6c61682b-37d2-40e6-eb94-febe88f92504"
      },
      "outputs": [],
      "source": [
        "#Displaying the table with the main metrics\n",
        "print(\"\\n📊 Model Performance Summary:\")\n",
        "df_results"
      ]
    },
    {
      "cell_type": "markdown",
      "metadata": {
        "id": "OArXIKhdHBsd"
      },
      "source": [
        "The goal is to **choose 2 models**. Random Forest, Logistic regression and Decision tree had the best recall rate, but the Logistic regression model had a lower precision rate. Therefore, **Random Forest and Decision tree will be chosen for the next stage**."
      ]
    },
    {
      "cell_type": "markdown",
      "metadata": {
        "id": "mVGQl8HRiRPE"
      },
      "source": [
        "##Hyperparameters Tuning"
      ]
    },
    {
      "cell_type": "markdown",
      "metadata": {
        "id": "ENxuECK4Kutn"
      },
      "source": [
        "Hyperparameter tuning is **select the best combination of hyperparameters** (e.g., number of estimators, learning rate, or tree depth) that allow the model to generalize well to unseen data, **maximizing its predictive accuracy while minimizing overfitting**.\n",
        "\n",
        "\n",
        "To this **RandomizedSearchCV will be used**. It randomly samples from the specified hyperparameter space for a given number of iterations and evaluates each combination using cross-validation. RandomizedSearch helps to identify the best performing hyperparameters for the model, balancing accuracy and computational efficiency."
      ]
    },
    {
      "cell_type": "code",
      "execution_count": null,
      "metadata": {
        "colab": {
          "base_uri": "https://localhost:8080/",
          "height": 207
        },
        "id": "f8gldEJjNscQ",
        "outputId": "49a04ecd-2fbb-4e24-e7e8-060e9a4cdad7"
      },
      "outputs": [],
      "source": [
        "from sklearn.model_selection import RandomizedSearchCV\n",
        "\n",
        "# Model dictionary (Random Forest and Decision Tree)\n",
        "models = {\n",
        "    'Random Forest': RandomForestClassifier(random_state=42),\n",
        "    'Decision Tree': DecisionTreeClassifier(random_state=42)\n",
        "}\n",
        "\n",
        "# Hyperparameter grids for RandomizedSearchCV\n",
        "param_grid_rf = {\n",
        "    'classifier__n_estimators': [100, 200, 300],\n",
        "    'classifier__max_depth': [10, 20, 30],\n",
        "    'classifier__min_samples_split': [2, 5, 10],\n",
        "    'classifier__min_samples_leaf': [1, 2, 4]\n",
        "}\n",
        "\n",
        "param_grid_dt = {\n",
        "    'classifier__max_depth': [5, 10, 20],\n",
        "    'classifier__min_samples_split': [2, 5, 10],\n",
        "    'classifier__min_samples_leaf': [1, 2, 4]\n",
        "}\n",
        "\n",
        "# Define cross-validation strategy\n",
        "cv = StratifiedKFold(n_splits=5, shuffle=True, random_state=42)\n",
        "\n",
        "# Initialize an empty list to store metrics\n",
        "metrics = []\n",
        "\n",
        "# Loop through models and perform training/evaluation with and without hyperparameter tuning\n",
        "for name, model in models.items():\n",
        "    # Create pipeline without hyperparameter tuning\n",
        "    pipeline = ImbPipeline([\n",
        "        ('preprocessing', preprocessor),\n",
        "        ('smote', SMOTE(sampling_strategy='auto', random_state=42)),  # Oversampling within CV\n",
        "        ('classifier', model)\n",
        "    ])\n",
        "\n",
        "    # Evaluate without hyperparameter tuning\n",
        "    y_pred = cross_val_predict(pipeline, X_train, y_train, cv=cv)\n",
        "    recall = recall_score(y_train, y_pred)\n",
        "    precision = precision_score(y_train, y_pred)\n",
        "    accuracy = accuracy_score(y_train, y_pred)\n",
        "\n",
        "    metrics.append([name + ' (No Hyperparameter Tuning)', recall, precision, accuracy])\n",
        "\n",
        "    # Hyperparameter tuning with RandomizedSearchCV for Random Forest and Decision Tree\n",
        "    if name == 'Random Forest':\n",
        "        random_search_rf = RandomizedSearchCV(pipeline, param_distributions=param_grid_rf, n_iter=10, cv=cv, random_state=42, n_jobs=-1)\n",
        "        random_search_rf.fit(X_train, y_train)\n",
        "        best_model = random_search_rf.best_estimator_\n",
        "    elif name == 'Decision Tree':\n",
        "        random_search_dt = RandomizedSearchCV(pipeline, param_distributions=param_grid_dt, n_iter=10, cv=cv, random_state=42, n_jobs=-1)\n",
        "        random_search_dt.fit(X_train, y_train)\n",
        "        best_model = random_search_dt.best_estimator_\n",
        "\n",
        "    # Evaluate with hyperparameter tuning\n",
        "    y_pred_tuned = cross_val_predict(best_model, X_train, y_train, cv=cv)\n",
        "    recall_tuned = recall_score(y_train, y_pred_tuned)\n",
        "    precision_tuned = precision_score(y_train, y_pred_tuned)\n",
        "    accuracy_tuned = accuracy_score(y_train, y_pred_tuned)\n",
        "\n",
        "    metrics.append([name + ' (With Hyperparameter Tuning)', recall_tuned, precision_tuned, accuracy_tuned])\n",
        "\n",
        "# Create a DataFrame with the results\n",
        "metrics_df = pd.DataFrame(metrics, columns=['Model', 'Recall', 'Precision', 'Accuracy'])\n",
        "\n",
        "# Display the results as a table\n",
        "print(\"\\n📊 Performance summary of models with hyperparameterization:\")\n",
        "metrics_df\n"
      ]
    },
    {
      "cell_type": "markdown",
      "metadata": {
        "id": "Otsi3PmoiWxx"
      },
      "source": [
        "##Ensemble"
      ]
    },
    {
      "cell_type": "markdown",
      "metadata": {
        "id": "xZsfsYEJs2cv"
      },
      "source": [
        "In this section, **the two models will be combined to improve the performance** of the final model.\n",
        "\n",
        "The **voting classifier** is an effective way to combine models, where each model contributes its prediction and the final decision is based on the majority or average of the predictions."
      ]
    },
    {
      "cell_type": "code",
      "execution_count": null,
      "metadata": {
        "colab": {
          "base_uri": "https://localhost:8080/",
          "height": 238
        },
        "id": "3fxF0jmFU302",
        "outputId": "a12b2ba3-752a-4866-8c77-0632c03c3caf"
      },
      "outputs": [],
      "source": [
        "from sklearn.ensemble import VotingClassifier\n",
        "\n",
        "#Create a list of the tuned models\n",
        "models_tuned = {\n",
        "    'Random Forest (With Hyperparameter Tuning)': random_search_rf.best_estimator_,\n",
        "    'Decision Tree (With Hyperparameter Tuning)': random_search_dt.best_estimator_\n",
        "}\n",
        "\n",
        "#Create an ensemble model using VotingClassifier (soft voting)\n",
        "ensemble_model = VotingClassifier(estimators=[\n",
        "    ('random_forest', models_tuned['Random Forest (With Hyperparameter Tuning)']),\n",
        "    ('decision_tree', models_tuned['Decision Tree (With Hyperparameter Tuning)'])\n",
        "], voting='soft')\n",
        "\n",
        "#Evaluating the ensemble model\n",
        "ensemble_model.fit(X_train, y_train)\n",
        "y_pred_ensemble = cross_val_predict(ensemble_model, X_train, y_train, cv=cv)\n",
        "recall_ensemble = recall_score(y_train, y_pred_ensemble)\n",
        "precision_ensemble = precision_score(y_train, y_pred_ensemble)\n",
        "accuracy_ensemble = accuracy_score(y_train, y_pred_ensemble)\n",
        "\n",
        "# Add the ensemble results to the metrics list\n",
        "metrics.append(['Ensemble (Random Forest + Decision Tree)', recall_ensemble, precision_ensemble, accuracy_ensemble])\n",
        "\n",
        "# Convert the metrics list to a DataFrame\n",
        "metrics_df = pd.DataFrame(metrics, columns=['Model', 'Recall', 'Precision', 'Accuracy'])\n",
        "\n",
        "# Display the results as a table\n",
        "print(\"\\n📊 Performance summary of models with hyperparameterization and with Ensemble:\")\n",
        "metrics_df\n",
        "\n"
      ]
    },
    {
      "cell_type": "markdown",
      "metadata": {
        "id": "XWucJiQkYHXS"
      },
      "source": [
        "The **recall rate of the ensemble model was very close** to that of the Decision tree model with hyperparameters, which had the highest recall rate. In addition, the **ensemble model had higher precision and accuracy rates** than the Decision tree model with hyperparameters."
      ]
    },
    {
      "cell_type": "markdown",
      "metadata": {
        "id": "eIxbYxctSDMQ"
      },
      "source": [
        "#Evaluation"
      ]
    },
    {
      "cell_type": "markdown",
      "metadata": {
        "id": "_UpW32K-6vtw"
      },
      "source": [
        "Now we will perform the **final evaluation of the ensemble model** using the **test data,** which were separated before modeling."
      ]
    },
    {
      "cell_type": "code",
      "execution_count": null,
      "metadata": {
        "colab": {
          "base_uri": "https://localhost:8080/",
          "height": 600
        },
        "id": "DCZPFNCEZDsV",
        "outputId": "057cd0ac-bc84-4dc7-efa5-c14054a52c5d"
      },
      "outputs": [],
      "source": [
        "#Evaluating the ensemble model on the test data\n",
        "y_pred_test = ensemble_model.predict(X_test)\n",
        "\n",
        "#Calculating metrics\n",
        "recall_test = recall_score(y_test, y_pred_test)\n",
        "precision_test = precision_score(y_test, y_pred_test)\n",
        "accuracy_test = accuracy_score(y_test, y_pred_test)\n",
        "\n",
        "#Generating a confusion matrix\n",
        "cm = confusion_matrix(y_test, y_pred_test)\n",
        "\n",
        "plt.figure(figsize=(6, 4))\n",
        "sns.heatmap(cm, annot=True, fmt='d', cmap='Blues', xticklabels=['Negative', 'Positive'], yticklabels=['Negative', 'Positive'])\n",
        "plt.title('Confusion Matrix - Ensemble Model')\n",
        "plt.ylabel('Actual')\n",
        "plt.xlabel('Predicted')\n",
        "plt.show()\n",
        "\n",
        "# Adding the new row with the ensemble model metrics with the teste data\n",
        "metrics.append(['Ensemble (TEST DATA)', recall_test, precision_test, accuracy_test])\n",
        "# Convert the metrics list to a DataFrame\n",
        "metrics_df = pd.DataFrame(metrics, columns=['Model', 'Recall', 'Precision', 'Accuracy'])\n",
        "\n",
        "# Display the results as a table\n",
        "print(\"\\n📊 Performance summary of models with hyperparameterization and with Ensemble:\")\n",
        "metrics_df = metrics_df.drop([0, 2]).reset_index(drop=True)\n",
        "metrics_df\n"
      ]
    },
    {
      "cell_type": "markdown",
      "metadata": {
        "id": "vdt-9O9Ffeh9"
      },
      "source": [
        "Model evaluation shows **promising results**. After fine-tuning the hyperparameters of the Random Forest and Decision Tree models, their performance was further improved when combined into an ensemble. The final ensemble model demonstrated **strong recall (0.778)**, precision (0.717), and accuracy (0.922) on the test data, indicating its robustness in predicting churn. This performance suggests that the ensemble approach, leveraging the strengths of both models, **is effective for the task at hand and can be trusted for future predictions**.\n",
        "\n",
        "With these results, **the model is now ready for deployment.** By integrating it into an application, users will be able to input customer data and receive a churn probability score in real-time. This will enable businesses to proactively identify at-risk customers and implement targeted retention strategies. **The model's strong performance ensures that it can be a valuable tool for decision-making,** helping to minimize churn and improve customer satisfaction."
      ]
    }
  ],
  "metadata": {
    "colab": {
      "include_colab_link": true,
      "provenance": []
    },
    "kernelspec": {
      "display_name": "venv_credit_risk",
      "language": "python",
      "name": "python3"
    },
    "language_info": {
      "codemirror_mode": {
        "name": "ipython",
        "version": 3
      },
      "file_extension": ".py",
      "mimetype": "text/x-python",
      "name": "python",
      "nbconvert_exporter": "python",
      "pygments_lexer": "ipython3",
      "version": "3.10.16"
    }
  },
  "nbformat": 4,
  "nbformat_minor": 0
}
